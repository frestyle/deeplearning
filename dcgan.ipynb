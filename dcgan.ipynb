{
    "cells": [
        {
            "cell_type": "code",
            "execution_count": 3,
            "source": [
                "from __future__ import print_function\n",
                "#%matplotlib inline\n",
                "import argparse\n",
                "import os\n",
                "import random\n",
                "import torch\n",
                "import torch.nn as nn\n",
                "import torch.nn.parallel\n",
                "import torch.backends.cudnn as cudnn\n",
                "import torch.optim as optim\n",
                "import torch.utils.data\n",
                "import torchvision.datasets as dset\n",
                "import torchvision.transforms as transforms\n",
                "import torchvision.utils as vutils\n",
                "import numpy as np\n",
                "import matplotlib.pyplot as plt\n",
                "import matplotlib.animation as animation\n",
                "from IPython.display import HTML\n",
                "\n",
                "# Set random seed for reproducibility\n",
                "manualSeed = 999\n",
                "#manualSeed = random.randint(1, 10000) # use if you want new results\n",
                "print(\"Random Seed: \", manualSeed)\n",
                "random.seed(manualSeed)\n",
                "torch.manual_seed(manualSeed)"
            ],
            "outputs": [
                {
                    "output_type": "stream",
                    "name": "stdout",
                    "text": [
                        "Random Seed:  999\n"
                    ]
                },
                {
                    "output_type": "execute_result",
                    "data": {
                        "text/plain": [
                            "<torch._C.Generator at 0x7f15bc0968f0>"
                        ]
                    },
                    "metadata": {},
                    "execution_count": 3
                }
            ],
            "metadata": {}
        },
        {
            "cell_type": "code",
            "execution_count": 7,
            "source": [
                "# Root directory for dataset\n",
                "dataroot = \"dataset/dah\"\n",
                "\n",
                "# Spatial size of training images. All images will be resized to this\n",
                "#   size using a transformer.\n",
                "image_size = 64\n",
                "\n",
                "# Number of GPUs available. Use 0 for CPU mode.\n",
                "ngpu = 1\n",
                "\n",
                "# Number of workers for dataloader\n",
                "workers = 2\n",
                "\n",
                "# Batch size during training\n",
                "batch_size = 1\n",
                "\n",
                "# Number of channels in the training images. For color images this is 3\n",
                "nc = 3\n",
                "\n",
                "# Size of z latent vector (i.e. size of generator input)\n",
                "nz = 100\n",
                "\n",
                "# Size of feature maps in generator\n",
                "ngf = 64\n",
                "\n",
                "# Size of feature maps in discriminator\n",
                "ndf = 64\n",
                "\n",
                "# Number of training epochs\n",
                "num_epochs = 5\n",
                "\n",
                "# Learning rate for optimizers\n",
                "lr = 0.0002\n",
                "\n",
                "# Beta1 hyperparam for Adam optimizers\n",
                "beta1 = 0.5\n",
                "\n",
                "# Number of GPUs available. Use 0 for CPU mode.\n",
                "ngpu = 1\n"
            ],
            "outputs": [],
            "metadata": {}
        },
        {
            "cell_type": "code",
            "execution_count": 8,
            "source": [
                "%matplotlib inline"
            ],
            "outputs": [],
            "metadata": {}
        },
        {
            "cell_type": "code",
            "execution_count": 9,
            "source": [
                "!nvidia-smi"
            ],
            "outputs": [
                {
                    "output_type": "stream",
                    "name": "stdout",
                    "text": [
                        "Sun Aug 15 20:19:58 2021       \n",
                        "+-----------------------------------------------------------------------------+\n",
                        "| NVIDIA-SMI 470.57.02    Driver Version: 470.57.02    CUDA Version: 11.4     |\n",
                        "|-------------------------------+----------------------+----------------------+\n",
                        "| GPU  Name        Persistence-M| Bus-Id        Disp.A | Volatile Uncorr. ECC |\n",
                        "| Fan  Temp  Perf  Pwr:Usage/Cap|         Memory-Usage | GPU-Util  Compute M. |\n",
                        "|                               |                      |               MIG M. |\n",
                        "|===============================+======================+======================|\n",
                        "|   0  NVIDIA GeForce ...  Off  | 00000000:01:00.0 Off |                  N/A |\n",
                        "| N/A   41C    P8     3W /  N/A |     17MiB /  3911MiB |      0%      Default |\n",
                        "|                               |                      |                  N/A |\n",
                        "+-------------------------------+----------------------+----------------------+\n",
                        "                                                                               \n",
                        "+-----------------------------------------------------------------------------+\n",
                        "| Processes:                                                                  |\n",
                        "|  GPU   GI   CI        PID   Type   Process name                  GPU Memory |\n",
                        "|        ID   ID                                                   Usage      |\n",
                        "|=============================================================================|\n",
                        "+-----------------------------------------------------------------------------+\n"
                    ]
                }
            ],
            "metadata": {}
        },
        {
            "cell_type": "code",
            "execution_count": 10,
            "source": [
                "# Decide which device we want to run on\n",
                "device = torch.device(\"cuda:0\" if (torch.cuda.is_available() and ngpu > 0) else \"cpu\")\n",
                "\n",
                "device"
            ],
            "outputs": [
                {
                    "output_type": "execute_result",
                    "data": {
                        "text/plain": [
                            "device(type='cpu')"
                        ]
                    },
                    "metadata": {},
                    "execution_count": 10
                }
            ],
            "metadata": {}
        },
        {
            "cell_type": "code",
            "execution_count": 25,
            "source": [
                "dataset = dset.ImageFolder(root=dataroot,\n",
                "                           transform=transforms.Compose([\n",
                "                               transforms.Resize(image_size),\n",
                "                               transforms.CenterCrop(image_size),\n",
                "                               transforms.ToTensor(),\n",
                "                               transforms.Normalize((0.5, 0.5, 0.5), (0.5, 0.5, 0.5)),\n",
                "                           ]))\n",
                "# Create the dataloader\n",
                "dataloader = torch.utils.data.DataLoader(dataset, batch_size=batch_size,\n",
                "                                         shuffle=True)"
            ],
            "outputs": [],
            "metadata": {}
        },
        {
            "cell_type": "code",
            "execution_count": 26,
            "source": [
                "# Plot some training images\n",
                "real_batch = next(iter(dataloader))\n",
                "plt.figure(figsize=(8,8))\n",
                "plt.axis(\"off\")\n",
                "plt.title(\"Training Images\")\n",
                "plt.imshow(np.transpose(vutils.make_grid(real_batch[0].to(device)[:64], padding=2, normalize=True).cpu(),(1,2,0)))"
            ],
            "outputs": [
                {
                    "output_type": "execute_result",
                    "data": {
                        "text/plain": [
                            "<matplotlib.image.AxesImage at 0x7fb73b5f89d0>"
                        ]
                    },
                    "metadata": {},
                    "execution_count": 26
                },
                {
                    "output_type": "display_data",
                    "data": {
                        "text/plain": [
                            "<Figure size 576x576 with 1 Axes>"
                        ],
                        "image/svg+xml": "<?xml version=\"1.0\" encoding=\"utf-8\" standalone=\"no\"?>\n<!DOCTYPE svg PUBLIC \"-//W3C//DTD SVG 1.1//EN\"\n  \"http://www.w3.org/Graphics/SVG/1.1/DTD/svg11.dtd\">\n<svg height=\"464.398125pt\" version=\"1.1\" viewBox=\"0 0 449.28 464.398125\" width=\"449.28pt\" xmlns=\"http://www.w3.org/2000/svg\" xmlns:xlink=\"http://www.w3.org/1999/xlink\">\n <metadata>\n  <rdf:RDF xmlns:cc=\"http://creativecommons.org/ns#\" xmlns:dc=\"http://purl.org/dc/elements/1.1/\" xmlns:rdf=\"http://www.w3.org/1999/02/22-rdf-syntax-ns#\">\n   <cc:Work>\n    <dc:type rdf:resource=\"http://purl.org/dc/dcmitype/StillImage\"/>\n    <dc:date>2021-08-15T14:04:01.127194</dc:date>\n    <dc:format>image/svg+xml</dc:format>\n    <dc:creator>\n     <cc:Agent>\n      <dc:title>Matplotlib v3.4.2, https://matplotlib.org/</dc:title>\n     </cc:Agent>\n    </dc:creator>\n   </cc:Work>\n  </rdf:RDF>\n </metadata>\n <defs>\n  <style type=\"text/css\">*{stroke-linecap:butt;stroke-linejoin:round;}</style>\n </defs>\n <g id=\"figure_1\">\n  <g id=\"patch_1\">\n   <path d=\"M 0 464.398125 \nL 449.28 464.398125 \nL 449.28 0 \nL 0 0 \nz\n\" style=\"fill:none;\"/>\n  </g>\n  <g id=\"axes_1\">\n   <g clip-path=\"url(#p316f581e29)\">\n    <image height=\"435\" id=\"imagef6e17772b9\" transform=\"scale(1 -1)translate(0 -435)\" width=\"435\" x=\"7.2\" xlink:href=\"data:image/png;base64,\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\" y=\"-22.198125\"/>\n   </g>\n   <g id=\"text_1\">\n    <!-- Training Images -->\n    <g transform=\"translate(177.144375 16.318125)scale(0.12 -0.12)\">\n     <defs>\n      <path d=\"M -19 4666 \nL 3928 4666 \nL 3928 4134 \nL 2272 4134 \nL 2272 0 \nL 1638 0 \nL 1638 4134 \nL -19 4134 \nL -19 4666 \nz\n\" id=\"DejaVuSans-54\" transform=\"scale(0.015625)\"/>\n      <path d=\"M 2631 2963 \nQ 2534 3019 2420 3045 \nQ 2306 3072 2169 3072 \nQ 1681 3072 1420 2755 \nQ 1159 2438 1159 1844 \nL 1159 0 \nL 581 0 \nL 581 3500 \nL 1159 3500 \nL 1159 2956 \nQ 1341 3275 1631 3429 \nQ 1922 3584 2338 3584 \nQ 2397 3584 2469 3576 \nQ 2541 3569 2628 3553 \nL 2631 2963 \nz\n\" id=\"DejaVuSans-72\" transform=\"scale(0.015625)\"/>\n      <path d=\"M 2194 1759 \nQ 1497 1759 1228 1600 \nQ 959 1441 959 1056 \nQ 959 750 1161 570 \nQ 1363 391 1709 391 \nQ 2188 391 2477 730 \nQ 2766 1069 2766 1631 \nL 2766 1759 \nL 2194 1759 \nz\nM 3341 1997 \nL 3341 0 \nL 2766 0 \nL 2766 531 \nQ 2569 213 2275 61 \nQ 1981 -91 1556 -91 \nQ 1019 -91 701 211 \nQ 384 513 384 1019 \nQ 384 1609 779 1909 \nQ 1175 2209 1959 2209 \nL 2766 2209 \nL 2766 2266 \nQ 2766 2663 2505 2880 \nQ 2244 3097 1772 3097 \nQ 1472 3097 1187 3025 \nQ 903 2953 641 2809 \nL 641 3341 \nQ 956 3463 1253 3523 \nQ 1550 3584 1831 3584 \nQ 2591 3584 2966 3190 \nQ 3341 2797 3341 1997 \nz\n\" id=\"DejaVuSans-61\" transform=\"scale(0.015625)\"/>\n      <path d=\"M 603 3500 \nL 1178 3500 \nL 1178 0 \nL 603 0 \nL 603 3500 \nz\nM 603 4863 \nL 1178 4863 \nL 1178 4134 \nL 603 4134 \nL 603 4863 \nz\n\" id=\"DejaVuSans-69\" transform=\"scale(0.015625)\"/>\n      <path d=\"M 3513 2113 \nL 3513 0 \nL 2938 0 \nL 2938 2094 \nQ 2938 2591 2744 2837 \nQ 2550 3084 2163 3084 \nQ 1697 3084 1428 2787 \nQ 1159 2491 1159 1978 \nL 1159 0 \nL 581 0 \nL 581 3500 \nL 1159 3500 \nL 1159 2956 \nQ 1366 3272 1645 3428 \nQ 1925 3584 2291 3584 \nQ 2894 3584 3203 3211 \nQ 3513 2838 3513 2113 \nz\n\" id=\"DejaVuSans-6e\" transform=\"scale(0.015625)\"/>\n      <path d=\"M 2906 1791 \nQ 2906 2416 2648 2759 \nQ 2391 3103 1925 3103 \nQ 1463 3103 1205 2759 \nQ 947 2416 947 1791 \nQ 947 1169 1205 825 \nQ 1463 481 1925 481 \nQ 2391 481 2648 825 \nQ 2906 1169 2906 1791 \nz\nM 3481 434 \nQ 3481 -459 3084 -895 \nQ 2688 -1331 1869 -1331 \nQ 1566 -1331 1297 -1286 \nQ 1028 -1241 775 -1147 \nL 775 -588 \nQ 1028 -725 1275 -790 \nQ 1522 -856 1778 -856 \nQ 2344 -856 2625 -561 \nQ 2906 -266 2906 331 \nL 2906 616 \nQ 2728 306 2450 153 \nQ 2172 0 1784 0 \nQ 1141 0 747 490 \nQ 353 981 353 1791 \nQ 353 2603 747 3093 \nQ 1141 3584 1784 3584 \nQ 2172 3584 2450 3431 \nQ 2728 3278 2906 2969 \nL 2906 3500 \nL 3481 3500 \nL 3481 434 \nz\n\" id=\"DejaVuSans-67\" transform=\"scale(0.015625)\"/>\n      <path id=\"DejaVuSans-20\" transform=\"scale(0.015625)\"/>\n      <path d=\"M 628 4666 \nL 1259 4666 \nL 1259 0 \nL 628 0 \nL 628 4666 \nz\n\" id=\"DejaVuSans-49\" transform=\"scale(0.015625)\"/>\n      <path d=\"M 3328 2828 \nQ 3544 3216 3844 3400 \nQ 4144 3584 4550 3584 \nQ 5097 3584 5394 3201 \nQ 5691 2819 5691 2113 \nL 5691 0 \nL 5113 0 \nL 5113 2094 \nQ 5113 2597 4934 2840 \nQ 4756 3084 4391 3084 \nQ 3944 3084 3684 2787 \nQ 3425 2491 3425 1978 \nL 3425 0 \nL 2847 0 \nL 2847 2094 \nQ 2847 2600 2669 2842 \nQ 2491 3084 2119 3084 \nQ 1678 3084 1418 2786 \nQ 1159 2488 1159 1978 \nL 1159 0 \nL 581 0 \nL 581 3500 \nL 1159 3500 \nL 1159 2956 \nQ 1356 3278 1631 3431 \nQ 1906 3584 2284 3584 \nQ 2666 3584 2933 3390 \nQ 3200 3197 3328 2828 \nz\n\" id=\"DejaVuSans-6d\" transform=\"scale(0.015625)\"/>\n      <path d=\"M 3597 1894 \nL 3597 1613 \nL 953 1613 \nQ 991 1019 1311 708 \nQ 1631 397 2203 397 \nQ 2534 397 2845 478 \nQ 3156 559 3463 722 \nL 3463 178 \nQ 3153 47 2828 -22 \nQ 2503 -91 2169 -91 \nQ 1331 -91 842 396 \nQ 353 884 353 1716 \nQ 353 2575 817 3079 \nQ 1281 3584 2069 3584 \nQ 2775 3584 3186 3129 \nQ 3597 2675 3597 1894 \nz\nM 3022 2063 \nQ 3016 2534 2758 2815 \nQ 2500 3097 2075 3097 \nQ 1594 3097 1305 2825 \nQ 1016 2553 972 2059 \nL 3022 2063 \nz\n\" id=\"DejaVuSans-65\" transform=\"scale(0.015625)\"/>\n      <path d=\"M 2834 3397 \nL 2834 2853 \nQ 2591 2978 2328 3040 \nQ 2066 3103 1784 3103 \nQ 1356 3103 1142 2972 \nQ 928 2841 928 2578 \nQ 928 2378 1081 2264 \nQ 1234 2150 1697 2047 \nL 1894 2003 \nQ 2506 1872 2764 1633 \nQ 3022 1394 3022 966 \nQ 3022 478 2636 193 \nQ 2250 -91 1575 -91 \nQ 1294 -91 989 -36 \nQ 684 19 347 128 \nL 347 722 \nQ 666 556 975 473 \nQ 1284 391 1588 391 \nQ 1994 391 2212 530 \nQ 2431 669 2431 922 \nQ 2431 1156 2273 1281 \nQ 2116 1406 1581 1522 \nL 1381 1569 \nQ 847 1681 609 1914 \nQ 372 2147 372 2553 \nQ 372 3047 722 3315 \nQ 1072 3584 1716 3584 \nQ 2034 3584 2315 3537 \nQ 2597 3491 2834 3397 \nz\n\" id=\"DejaVuSans-73\" transform=\"scale(0.015625)\"/>\n     </defs>\n     <use xlink:href=\"#DejaVuSans-54\"/>\n     <use x=\"46.333984\" xlink:href=\"#DejaVuSans-72\"/>\n     <use x=\"87.447266\" xlink:href=\"#DejaVuSans-61\"/>\n     <use x=\"148.726562\" xlink:href=\"#DejaVuSans-69\"/>\n     <use x=\"176.509766\" xlink:href=\"#DejaVuSans-6e\"/>\n     <use x=\"239.888672\" xlink:href=\"#DejaVuSans-69\"/>\n     <use x=\"267.671875\" xlink:href=\"#DejaVuSans-6e\"/>\n     <use x=\"331.050781\" xlink:href=\"#DejaVuSans-67\"/>\n     <use x=\"394.527344\" xlink:href=\"#DejaVuSans-20\"/>\n     <use x=\"426.314453\" xlink:href=\"#DejaVuSans-49\"/>\n     <use x=\"455.806641\" xlink:href=\"#DejaVuSans-6d\"/>\n     <use x=\"553.21875\" xlink:href=\"#DejaVuSans-61\"/>\n     <use x=\"614.498047\" xlink:href=\"#DejaVuSans-67\"/>\n     <use x=\"677.974609\" xlink:href=\"#DejaVuSans-65\"/>\n     <use x=\"739.498047\" xlink:href=\"#DejaVuSans-73\"/>\n    </g>\n   </g>\n  </g>\n </g>\n <defs>\n  <clipPath id=\"p316f581e29\">\n   <rect height=\"434.88\" width=\"434.88\" x=\"7.2\" y=\"22.318125\"/>\n  </clipPath>\n </defs>\n</svg>\n",
                        "image/png": "[encoded data removed]"
                    },
                    "metadata": {
                        "needs_background": "light"
                    }
                }
            ],
            "metadata": {}
        },
        {
            "cell_type": "code",
            "execution_count": 27,
            "source": [
                "# custom weights initialization called on netG and netD\n",
                "def weights_init(m):\n",
                "    classname = m.__class__.__name__\n",
                "    if classname.find('Conv') != -1:\n",
                "        nn.init.normal_(m.weight.data, 0.0, 0.02)\n",
                "    elif classname.find('BatchNorm') != -1:\n",
                "        nn.init.normal_(m.weight.data, 1.0, 0.02)\n",
                "        nn.init.constant_(m.bias.data, 0)"
            ],
            "outputs": [],
            "metadata": {}
        },
        {
            "cell_type": "code",
            "execution_count": 28,
            "source": [
                "# Generator Code\n",
                "\n",
                "class Generator(nn.Module):\n",
                "    def __init__(self, ngpu):\n",
                "        super(Generator, self).__init__()\n",
                "        self.ngpu = ngpu\n",
                "        self.main = nn.Sequential(\n",
                "            # input is Z, going into a convolution\n",
                "            nn.ConvTranspose2d( nz, ngf * 8, 4, 1, 0, bias=False),\n",
                "            nn.BatchNorm2d(ngf * 8),\n",
                "            nn.ReLU(True),\n",
                "            # state size. (ngf*8) x 4 x 4\n",
                "            nn.ConvTranspose2d(ngf * 8, ngf * 4, 4, 2, 1, bias=False),\n",
                "            nn.BatchNorm2d(ngf * 4),\n",
                "            nn.ReLU(True),\n",
                "            # state size. (ngf*4) x 8 x 8\n",
                "            nn.ConvTranspose2d( ngf * 4, ngf * 2, 4, 2, 1, bias=False),\n",
                "            nn.BatchNorm2d(ngf * 2),\n",
                "            nn.ReLU(True),\n",
                "            # state size. (ngf*2) x 16 x 16\n",
                "            nn.ConvTranspose2d( ngf * 2, ngf, 4, 2, 1, bias=False),\n",
                "            nn.BatchNorm2d(ngf),\n",
                "            nn.ReLU(True),\n",
                "            # state size. (ngf) x 32 x 32\n",
                "            nn.ConvTranspose2d( ngf, nc, 4, 2, 1, bias=False),\n",
                "            nn.Tanh()\n",
                "            # state size. (nc) x 64 x 64\n",
                "        )\n",
                "\n",
                "    def forward(self, input):\n",
                "        return self.main(input)"
            ],
            "outputs": [],
            "metadata": {}
        },
        {
            "cell_type": "code",
            "execution_count": 29,
            "source": [
                "# Create the generator\n",
                "netG = Generator(ngpu).to(device)\n",
                "\n",
                "# Handle multi-gpu if desired\n",
                "if (device.type == 'cuda') and (ngpu > 1):\n",
                "    netG = nn.DataParallel(netG, list(range(ngpu)))\n",
                "\n",
                "# Apply the weights_init function to randomly initialize all weights\n",
                "#  to mean=0, stdev=0.2.\n",
                "netG.apply(weights_init)\n",
                "\n",
                "# Print the model\n",
                "print(netG)"
            ],
            "outputs": [
                {
                    "output_type": "stream",
                    "name": "stdout",
                    "text": [
                        "Generator(\n",
                        "  (main): Sequential(\n",
                        "    (0): ConvTranspose2d(100, 512, kernel_size=(4, 4), stride=(1, 1), bias=False)\n",
                        "    (1): BatchNorm2d(512, eps=1e-05, momentum=0.1, affine=True, track_running_stats=True)\n",
                        "    (2): ReLU(inplace=True)\n",
                        "    (3): ConvTranspose2d(512, 256, kernel_size=(4, 4), stride=(2, 2), padding=(1, 1), bias=False)\n",
                        "    (4): BatchNorm2d(256, eps=1e-05, momentum=0.1, affine=True, track_running_stats=True)\n",
                        "    (5): ReLU(inplace=True)\n",
                        "    (6): ConvTranspose2d(256, 128, kernel_size=(4, 4), stride=(2, 2), padding=(1, 1), bias=False)\n",
                        "    (7): BatchNorm2d(128, eps=1e-05, momentum=0.1, affine=True, track_running_stats=True)\n",
                        "    (8): ReLU(inplace=True)\n",
                        "    (9): ConvTranspose2d(128, 64, kernel_size=(4, 4), stride=(2, 2), padding=(1, 1), bias=False)\n",
                        "    (10): BatchNorm2d(64, eps=1e-05, momentum=0.1, affine=True, track_running_stats=True)\n",
                        "    (11): ReLU(inplace=True)\n",
                        "    (12): ConvTranspose2d(64, 3, kernel_size=(4, 4), stride=(2, 2), padding=(1, 1), bias=False)\n",
                        "    (13): Tanh()\n",
                        "  )\n",
                        ")\n"
                    ]
                }
            ],
            "metadata": {}
        },
        {
            "cell_type": "code",
            "execution_count": 30,
            "source": [
                "class Discriminator(nn.Module):\n",
                "    def __init__(self, ngpu):\n",
                "        super(Discriminator, self).__init__()\n",
                "        self.ngpu = ngpu\n",
                "        self.main = nn.Sequential(\n",
                "            # input is (nc) x 64 x 64\n",
                "            nn.Conv2d(nc, ndf, 4, 2, 1, bias=False),\n",
                "            nn.LeakyReLU(0.2, inplace=True),\n",
                "            # state size. (ndf) x 32 x 32\n",
                "            nn.Conv2d(ndf, ndf * 2, 4, 2, 1, bias=False),\n",
                "            nn.BatchNorm2d(ndf * 2),\n",
                "            nn.LeakyReLU(0.2, inplace=True),\n",
                "            # state size. (ndf*2) x 16 x 16\n",
                "            nn.Conv2d(ndf * 2, ndf * 4, 4, 2, 1, bias=False),\n",
                "            nn.BatchNorm2d(ndf * 4),\n",
                "            nn.LeakyReLU(0.2, inplace=True),\n",
                "            # state size. (ndf*4) x 8 x 8\n",
                "            nn.Conv2d(ndf * 4, ndf * 8, 4, 2, 1, bias=False),\n",
                "            nn.BatchNorm2d(ndf * 8),\n",
                "            nn.LeakyReLU(0.2, inplace=True),\n",
                "            # state size. (ndf*8) x 4 x 4\n",
                "            nn.Conv2d(ndf * 8, 1, 4, 1, 0, bias=False),\n",
                "            nn.Sigmoid()\n",
                "        )\n",
                "\n",
                "    def forward(self, input):\n",
                "        return self.main(input)"
            ],
            "outputs": [],
            "metadata": {}
        },
        {
            "cell_type": "code",
            "execution_count": 31,
            "source": [
                "# Create the Discriminator\n",
                "netD = Discriminator(ngpu).to(device)\n",
                "\n",
                "# Handle multi-gpu if desired\n",
                "if (device.type == 'cuda') and (ngpu > 1):\n",
                "    netD = nn.DataParallel(netD, list(range(ngpu)))\n",
                "    \n",
                "# Apply the weights_init function to randomly initialize all weights\n",
                "#  to mean=0, stdev=0.2.\n",
                "netD.apply(weights_init)\n",
                "\n",
                "# Print the model\n",
                "print(netD)"
            ],
            "outputs": [
                {
                    "output_type": "stream",
                    "name": "stdout",
                    "text": [
                        "Discriminator(\n",
                        "  (main): Sequential(\n",
                        "    (0): Conv2d(3, 64, kernel_size=(4, 4), stride=(2, 2), padding=(1, 1), bias=False)\n",
                        "    (1): LeakyReLU(negative_slope=0.2, inplace=True)\n",
                        "    (2): Conv2d(64, 128, kernel_size=(4, 4), stride=(2, 2), padding=(1, 1), bias=False)\n",
                        "    (3): BatchNorm2d(128, eps=1e-05, momentum=0.1, affine=True, track_running_stats=True)\n",
                        "    (4): LeakyReLU(negative_slope=0.2, inplace=True)\n",
                        "    (5): Conv2d(128, 256, kernel_size=(4, 4), stride=(2, 2), padding=(1, 1), bias=False)\n",
                        "    (6): BatchNorm2d(256, eps=1e-05, momentum=0.1, affine=True, track_running_stats=True)\n",
                        "    (7): LeakyReLU(negative_slope=0.2, inplace=True)\n",
                        "    (8): Conv2d(256, 512, kernel_size=(4, 4), stride=(2, 2), padding=(1, 1), bias=False)\n",
                        "    (9): BatchNorm2d(512, eps=1e-05, momentum=0.1, affine=True, track_running_stats=True)\n",
                        "    (10): LeakyReLU(negative_slope=0.2, inplace=True)\n",
                        "    (11): Conv2d(512, 1, kernel_size=(4, 4), stride=(1, 1), bias=False)\n",
                        "    (12): Sigmoid()\n",
                        "  )\n",
                        ")\n"
                    ]
                }
            ],
            "metadata": {}
        },
        {
            "cell_type": "code",
            "execution_count": 32,
            "source": [
                "# Initialize BCELoss function\n",
                "criterion = nn.BCELoss()\n",
                "\n",
                "# Create batch of latent vectors that we will use to visualize\n",
                "#  the progression of the generator\n",
                "fixed_noise = torch.randn(64, nz, 1, 1, device=device)\n",
                "\n",
                "# Establish convention for real and fake labels during training\n",
                "real_label = 1.\n",
                "fake_label = 0.\n",
                "\n",
                "# Setup Adam optimizers for both G and D\n",
                "optimizerD = optim.Adam(netD.parameters(), lr=lr, betas=(beta1, 0.999))\n",
                "optimizerG = optim.Adam(netG.parameters(), lr=lr, betas=(beta1, 0.999))"
            ],
            "outputs": [],
            "metadata": {}
        },
        {
            "cell_type": "code",
            "execution_count": 33,
            "source": [
                "\n",
                "print(\"Starting Training Loop...\")\n",
                "# For each epoch\n",
                "for epoch in range(num_epochs):\n",
                "     # For each batch in the dataloader\n",
                "    for i, data in enumerate(dataloader, 0):\n",
                "         ############################\n",
                "        # (1) Update D network: maximize log(D(x)) + log(1 - D(G(z)))\n",
                "        ###########################\n",
                "        ## Train with all-real batch\n",
                "        netD.zero_grad()\n",
                "        # Format batch\n",
                "        real_cpu = data[0].to(device)\n",
                "        b_size = real_cpu.size(0)\n",
                "        label = torch.full((b_size,), real_label, dtype=torch.float, device=device)\n",
                "        # Forward pass real batch through D\n",
                "        output = netD(real_cpu).view(-1)\n",
                "        # Calculate loss on all-real batch\n",
                "        errD_real = criterion(output, label)\n",
                "        # Calculate gradients for D in backward pass\n",
                "        errD_real.backward()\n",
                "        D_x = output.mean().item()\n",
                "\n",
                "        ## Train with all-fake batch\n",
                "        # Generate batch of latent vectors\n",
                "        noise = torch.randn(b_size, nz, 1, 1, device=device)\n",
                "        # Generate fake image batch with G\n",
                "        fake = netG(noise)\n",
                "        label.fill_(fake_label)\n",
                "        # Classify all fake batch with D\n",
                "        output = netD(fake.detach()).view(-1)\n",
                "        # Calculate D's loss on the all-fake batch\n",
                "        errD_fake = criterion(output, label)\n",
                "        # Calculate the gradients for this batch, accumulated (summed) with previous gradients\n",
                "        errD_fake.backward()\n",
                "        D_G_z1 = output.mean().item()\n",
                "        # Compute error of D as sum over the fake and the real batches\n",
                "        errD = errD_real + errD_fake\n",
                "        # Update D\n",
                "        optimizerD.step()"
            ],
            "outputs": [
                {
                    "output_type": "stream",
                    "name": "stdout",
                    "text": [
                        "Starting Training Loop...\n"
                    ]
                }
            ],
            "metadata": {}
        },
        {
            "cell_type": "code",
            "execution_count": 1,
            "source": [
                " ## Train with all-fake batch\n",
                "        # Generate batch of latent vectors\n",
                "noise = torch.randn(b_size, nz, 1, 1, device=device)\n",
                "fake = netG(fixed_noise).detach().cpu()\n",
                "\n",
                "\n",
                "# Plot the real images\n",
                "plt.figure(figsize=(15,15))\n",
                "plt.subplot(1,2,1)\n",
                "plt.axis(\"off\")\n",
                "plt.title(\"Real Images\")\n",
                "plt.imshow(np.transpose(vutils.make_grid(fake, padding=2, normalize=True),(1,2,0)))\n"
            ],
            "outputs": [
                {
                    "output_type": "error",
                    "ename": "NameError",
                    "evalue": "name 'torch' is not defined",
                    "traceback": [
                        "\u001b[0;31m---------------------------------------------------------------------------\u001b[0m",
                        "\u001b[0;31mNameError\u001b[0m                                 Traceback (most recent call last)",
                        "\u001b[0;32m/tmp/ipykernel_25534/2392974859.py\u001b[0m in \u001b[0;36m<module>\u001b[0;34m\u001b[0m\n\u001b[1;32m      1\u001b[0m \u001b[0;31m## Train with all-fake batch\u001b[0m\u001b[0;34m\u001b[0m\u001b[0;34m\u001b[0m\u001b[0;34m\u001b[0m\u001b[0m\n\u001b[1;32m      2\u001b[0m        \u001b[0;31m# Generate batch of latent vectors\u001b[0m\u001b[0;34m\u001b[0m\u001b[0;34m\u001b[0m\u001b[0;34m\u001b[0m\u001b[0m\n\u001b[0;32m----> 3\u001b[0;31m \u001b[0mnoise\u001b[0m \u001b[0;34m=\u001b[0m \u001b[0mtorch\u001b[0m\u001b[0;34m.\u001b[0m\u001b[0mrandn\u001b[0m\u001b[0;34m(\u001b[0m\u001b[0mb_size\u001b[0m\u001b[0;34m,\u001b[0m \u001b[0mnz\u001b[0m\u001b[0;34m,\u001b[0m \u001b[0;36m1\u001b[0m\u001b[0;34m,\u001b[0m \u001b[0;36m1\u001b[0m\u001b[0;34m,\u001b[0m \u001b[0mdevice\u001b[0m\u001b[0;34m=\u001b[0m\u001b[0mdevice\u001b[0m\u001b[0;34m)\u001b[0m\u001b[0;34m\u001b[0m\u001b[0;34m\u001b[0m\u001b[0m\n\u001b[0m\u001b[1;32m      4\u001b[0m \u001b[0mfake\u001b[0m \u001b[0;34m=\u001b[0m \u001b[0mnetG\u001b[0m\u001b[0;34m(\u001b[0m\u001b[0mfixed_noise\u001b[0m\u001b[0;34m)\u001b[0m\u001b[0;34m.\u001b[0m\u001b[0mdetach\u001b[0m\u001b[0;34m(\u001b[0m\u001b[0;34m)\u001b[0m\u001b[0;34m.\u001b[0m\u001b[0mcpu\u001b[0m\u001b[0;34m(\u001b[0m\u001b[0;34m)\u001b[0m\u001b[0;34m\u001b[0m\u001b[0;34m\u001b[0m\u001b[0m\n\u001b[1;32m      5\u001b[0m \u001b[0;34m\u001b[0m\u001b[0m\n",
                        "\u001b[0;31mNameError\u001b[0m: name 'torch' is not defined"
                    ]
                }
            ],
            "metadata": {}
        },
        {
            "cell_type": "code",
            "execution_count": 20,
            "source": [
                "# Training Loop\n",
                "\n",
                "# Lists to keep track of progress\n",
                "img_list = []\n",
                "G_losses = []\n",
                "D_losses = []\n",
                "iters = 0\n",
                "\n",
                "print(\"Starting Training Loop...\")\n",
                "# For each epoch\n",
                "for epoch in range(num_epochs):\n",
                "    # For each batch in the dataloader\n",
                "    for i, data in enumerate(dataloader, 0):\n",
                "        \n",
                "        ############################\n",
                "        # (1) Update D network: maximize log(D(x)) + log(1 - D(G(z)))\n",
                "        ###########################\n",
                "        ## Train with all-real batch\n",
                "        netD.zero_grad()\n",
                "        # Format batch\n",
                "        real_cpu = data[0].to(device)\n",
                "        b_size = real_cpu.size(0)\n",
                "        label = torch.full((b_size,), real_label, dtype=torch.float, device=device)\n",
                "        # Forward pass real batch through D\n",
                "        output = netD(real_cpu).view(-1)\n",
                "        # Calculate loss on all-real batch\n",
                "        errD_real = criterion(output, label)\n",
                "        # Calculate gradients for D in backward pass\n",
                "        errD_real.backward()\n",
                "        D_x = output.mean().item()\n",
                "\n",
                "        ## Train with all-fake batch\n",
                "        # Generate batch of latent vectors\n",
                "        noise = torch.randn(b_size, nz, 1, 1, device=device)\n",
                "        # Generate fake image batch with G\n",
                "        fake = netG(noise)\n",
                "        label.fill_(fake_label)\n",
                "        # Classify all fake batch with D\n",
                "        output = netD(fake.detach()).view(-1)\n",
                "        # Calculate D's loss on the all-fake batch\n",
                "        errD_fake = criterion(output, label)\n",
                "        # Calculate the gradients for this batch, accumulated (summed) with previous gradients\n",
                "        errD_fake.backward()\n",
                "        D_G_z1 = output.mean().item()\n",
                "        # Compute error of D as sum over the fake and the real batches\n",
                "        errD = errD_real + errD_fake\n",
                "        # Update D\n",
                "        optimizerD.step()\n",
                "\n",
                "        ############################\n",
                "        # (2) Update G network: maximize log(D(G(z)))\n",
                "        ###########################\n",
                "        netG.zero_grad()\n",
                "        label.fill_(real_label)  # fake labels are real for generator cost\n",
                "        # Since we just updated D, perform another forward pass of all-fake batch through D\n",
                "        output = netD(fake).view(-1)\n",
                "        # Calculate G's loss based on this output\n",
                "        errG = criterion(output, label)\n",
                "        # Calculate gradients for G\n",
                "        errG.backward()\n",
                "        D_G_z2 = output.mean().item()\n",
                "        # Update G\n",
                "        optimizerG.step()\n",
                "        \n",
                "        # Output training stats\n",
                "        if i % 50 == 0:\n",
                "            print('[%d/%d][%d/%d]\\tLoss_D: %.4f\\tLoss_G: %.4f\\tD(x): %.4f\\tD(G(z)): %.4f / %.4f'\n",
                "                  % (epoch, num_epochs, i, len(dataloader),\n",
                "                     errD.item(), errG.item(), D_x, D_G_z1, D_G_z2))\n",
                "        \n",
                "        # Save Losses for plotting later\n",
                "        G_losses.append(errG.item())\n",
                "        D_losses.append(errD.item())\n",
                "        \n",
                "        # Check how the generator is doing by saving G's output on fixed_noise\n",
                "        if (iters % 500 == 0) or ((epoch == num_epochs-1) and (i == len(dataloader)-1)):\n",
                "            with torch.no_grad():\n",
                "                fake = netG(fixed_noise).detach().cpu()\n",
                "            img_list.append(vutils.make_grid(fake, padding=2, normalize=True))\n",
                "            \n",
                "        iters += 1"
            ],
            "outputs": [
                {
                    "output_type": "stream",
                    "name": "stdout",
                    "text": [
                        "Starting Training Loop...\n"
                    ]
                },
                {
                    "output_type": "error",
                    "ename": "ValueError",
                    "evalue": "Using a target size (torch.Size([1])) that is different to the input size (torch.Size([25])) is deprecated. Please ensure they have the same size.",
                    "traceback": [
                        "\u001b[0;31m---------------------------------------------------------------------------\u001b[0m",
                        "\u001b[0;31mValueError\u001b[0m                                Traceback (most recent call last)",
                        "\u001b[0;32m/tmp/ipykernel_1294/3007358521.py\u001b[0m in \u001b[0;36m<module>\u001b[0;34m\u001b[0m\n\u001b[1;32m     25\u001b[0m         \u001b[0moutput\u001b[0m \u001b[0;34m=\u001b[0m \u001b[0mnetD\u001b[0m\u001b[0;34m(\u001b[0m\u001b[0mreal_cpu\u001b[0m\u001b[0;34m)\u001b[0m\u001b[0;34m.\u001b[0m\u001b[0mview\u001b[0m\u001b[0;34m(\u001b[0m\u001b[0;34m-\u001b[0m\u001b[0;36m1\u001b[0m\u001b[0;34m)\u001b[0m\u001b[0;34m\u001b[0m\u001b[0;34m\u001b[0m\u001b[0m\n\u001b[1;32m     26\u001b[0m         \u001b[0;31m# Calculate loss on all-real batch\u001b[0m\u001b[0;34m\u001b[0m\u001b[0;34m\u001b[0m\u001b[0;34m\u001b[0m\u001b[0m\n\u001b[0;32m---> 27\u001b[0;31m         \u001b[0merrD_real\u001b[0m \u001b[0;34m=\u001b[0m \u001b[0mcriterion\u001b[0m\u001b[0;34m(\u001b[0m\u001b[0moutput\u001b[0m\u001b[0;34m,\u001b[0m \u001b[0mlabel\u001b[0m\u001b[0;34m)\u001b[0m\u001b[0;34m\u001b[0m\u001b[0;34m\u001b[0m\u001b[0m\n\u001b[0m\u001b[1;32m     28\u001b[0m         \u001b[0;31m# Calculate gradients for D in backward pass\u001b[0m\u001b[0;34m\u001b[0m\u001b[0;34m\u001b[0m\u001b[0;34m\u001b[0m\u001b[0m\n\u001b[1;32m     29\u001b[0m         \u001b[0merrD_real\u001b[0m\u001b[0;34m.\u001b[0m\u001b[0mbackward\u001b[0m\u001b[0;34m(\u001b[0m\u001b[0;34m)\u001b[0m\u001b[0;34m\u001b[0m\u001b[0;34m\u001b[0m\u001b[0m\n",
                        "\u001b[0;32m/opt/conda/lib/python3.8/site-packages/torch/nn/modules/module.py\u001b[0m in \u001b[0;36m_call_impl\u001b[0;34m(self, *input, **kwargs)\u001b[0m\n\u001b[1;32m   1054\u001b[0m         if not (self._backward_hooks or self._forward_hooks or self._forward_pre_hooks or _global_backward_hooks\n\u001b[1;32m   1055\u001b[0m                 or _global_forward_hooks or _global_forward_pre_hooks):\n\u001b[0;32m-> 1056\u001b[0;31m             \u001b[0;32mreturn\u001b[0m \u001b[0mforward_call\u001b[0m\u001b[0;34m(\u001b[0m\u001b[0;34m*\u001b[0m\u001b[0minput\u001b[0m\u001b[0;34m,\u001b[0m \u001b[0;34m**\u001b[0m\u001b[0mkwargs\u001b[0m\u001b[0;34m)\u001b[0m\u001b[0;34m\u001b[0m\u001b[0;34m\u001b[0m\u001b[0m\n\u001b[0m\u001b[1;32m   1057\u001b[0m         \u001b[0;31m# Do not call functions when jit is used\u001b[0m\u001b[0;34m\u001b[0m\u001b[0;34m\u001b[0m\u001b[0;34m\u001b[0m\u001b[0m\n\u001b[1;32m   1058\u001b[0m         \u001b[0mfull_backward_hooks\u001b[0m\u001b[0;34m,\u001b[0m \u001b[0mnon_full_backward_hooks\u001b[0m \u001b[0;34m=\u001b[0m \u001b[0;34m[\u001b[0m\u001b[0;34m]\u001b[0m\u001b[0;34m,\u001b[0m \u001b[0;34m[\u001b[0m\u001b[0;34m]\u001b[0m\u001b[0;34m\u001b[0m\u001b[0;34m\u001b[0m\u001b[0m\n",
                        "\u001b[0;32m/opt/conda/lib/python3.8/site-packages/torch/nn/modules/loss.py\u001b[0m in \u001b[0;36mforward\u001b[0;34m(self, input, target)\u001b[0m\n\u001b[1;32m    610\u001b[0m \u001b[0;34m\u001b[0m\u001b[0m\n\u001b[1;32m    611\u001b[0m     \u001b[0;32mdef\u001b[0m \u001b[0mforward\u001b[0m\u001b[0;34m(\u001b[0m\u001b[0mself\u001b[0m\u001b[0;34m,\u001b[0m \u001b[0minput\u001b[0m\u001b[0;34m:\u001b[0m \u001b[0mTensor\u001b[0m\u001b[0;34m,\u001b[0m \u001b[0mtarget\u001b[0m\u001b[0;34m:\u001b[0m \u001b[0mTensor\u001b[0m\u001b[0;34m)\u001b[0m \u001b[0;34m->\u001b[0m \u001b[0mTensor\u001b[0m\u001b[0;34m:\u001b[0m\u001b[0;34m\u001b[0m\u001b[0;34m\u001b[0m\u001b[0m\n\u001b[0;32m--> 612\u001b[0;31m         \u001b[0;32mreturn\u001b[0m \u001b[0mF\u001b[0m\u001b[0;34m.\u001b[0m\u001b[0mbinary_cross_entropy\u001b[0m\u001b[0;34m(\u001b[0m\u001b[0minput\u001b[0m\u001b[0;34m,\u001b[0m \u001b[0mtarget\u001b[0m\u001b[0;34m,\u001b[0m \u001b[0mweight\u001b[0m\u001b[0;34m=\u001b[0m\u001b[0mself\u001b[0m\u001b[0;34m.\u001b[0m\u001b[0mweight\u001b[0m\u001b[0;34m,\u001b[0m \u001b[0mreduction\u001b[0m\u001b[0;34m=\u001b[0m\u001b[0mself\u001b[0m\u001b[0;34m.\u001b[0m\u001b[0mreduction\u001b[0m\u001b[0;34m)\u001b[0m\u001b[0;34m\u001b[0m\u001b[0;34m\u001b[0m\u001b[0m\n\u001b[0m\u001b[1;32m    613\u001b[0m \u001b[0;34m\u001b[0m\u001b[0m\n\u001b[1;32m    614\u001b[0m \u001b[0;34m\u001b[0m\u001b[0m\n",
                        "\u001b[0;32m/opt/conda/lib/python3.8/site-packages/torch/nn/functional.py\u001b[0m in \u001b[0;36mbinary_cross_entropy\u001b[0;34m(input, target, weight, size_average, reduce, reduction)\u001b[0m\n\u001b[1;32m   2882\u001b[0m         \u001b[0mreduction_enum\u001b[0m \u001b[0;34m=\u001b[0m \u001b[0m_Reduction\u001b[0m\u001b[0;34m.\u001b[0m\u001b[0mget_enum\u001b[0m\u001b[0;34m(\u001b[0m\u001b[0mreduction\u001b[0m\u001b[0;34m)\u001b[0m\u001b[0;34m\u001b[0m\u001b[0;34m\u001b[0m\u001b[0m\n\u001b[1;32m   2883\u001b[0m     \u001b[0;32mif\u001b[0m \u001b[0mtarget\u001b[0m\u001b[0;34m.\u001b[0m\u001b[0msize\u001b[0m\u001b[0;34m(\u001b[0m\u001b[0;34m)\u001b[0m \u001b[0;34m!=\u001b[0m \u001b[0minput\u001b[0m\u001b[0;34m.\u001b[0m\u001b[0msize\u001b[0m\u001b[0;34m(\u001b[0m\u001b[0;34m)\u001b[0m\u001b[0;34m:\u001b[0m\u001b[0;34m\u001b[0m\u001b[0;34m\u001b[0m\u001b[0m\n\u001b[0;32m-> 2884\u001b[0;31m         raise ValueError(\n\u001b[0m\u001b[1;32m   2885\u001b[0m             \u001b[0;34m\"Using a target size ({}) that is different to the input size ({}) is deprecated. \"\u001b[0m\u001b[0;34m\u001b[0m\u001b[0;34m\u001b[0m\u001b[0m\n\u001b[1;32m   2886\u001b[0m             \u001b[0;34m\"Please ensure they have the same size.\"\u001b[0m\u001b[0;34m.\u001b[0m\u001b[0mformat\u001b[0m\u001b[0;34m(\u001b[0m\u001b[0mtarget\u001b[0m\u001b[0;34m.\u001b[0m\u001b[0msize\u001b[0m\u001b[0;34m(\u001b[0m\u001b[0;34m)\u001b[0m\u001b[0;34m,\u001b[0m \u001b[0minput\u001b[0m\u001b[0;34m.\u001b[0m\u001b[0msize\u001b[0m\u001b[0;34m(\u001b[0m\u001b[0;34m)\u001b[0m\u001b[0;34m)\u001b[0m\u001b[0;34m\u001b[0m\u001b[0;34m\u001b[0m\u001b[0m\n",
                        "\u001b[0;31mValueError\u001b[0m: Using a target size (torch.Size([1])) that is different to the input size (torch.Size([25])) is deprecated. Please ensure they have the same size."
                    ]
                }
            ],
            "metadata": {}
        },
        {
            "cell_type": "code",
            "execution_count": 21,
            "source": [
                "plt.figure(figsize=(10,5))\n",
                "plt.title(\"Generator and Discriminator Loss During Training\")\n",
                "plt.plot(G_losses,label=\"G\")\n",
                "plt.plot(D_losses,label=\"D\")\n",
                "plt.xlabel(\"iterations\")\n",
                "plt.ylabel(\"Loss\")\n",
                "plt.legend()\n",
                "plt.show()"
            ],
            "outputs": [
                {
                    "output_type": "display_data",
                    "data": {
                        "text/plain": [
                            "<Figure size 720x360 with 1 Axes>"
                        ],
                        "image/svg+xml": "<?xml version=\"1.0\" encoding=\"utf-8\" standalone=\"no\"?>\n<!DOCTYPE svg PUBLIC \"-//W3C//DTD SVG 1.1//EN\"\n  \"http://www.w3.org/Graphics/SVG/1.1/DTD/svg11.dtd\">\n<svg height=\"331.674375pt\" version=\"1.1\" viewBox=\"0 0 623.723438 331.674375\" width=\"623.723438pt\" xmlns=\"http://www.w3.org/2000/svg\" xmlns:xlink=\"http://www.w3.org/1999/xlink\">\n <metadata>\n  <rdf:RDF xmlns:cc=\"http://creativecommons.org/ns#\" xmlns:dc=\"http://purl.org/dc/elements/1.1/\" xmlns:rdf=\"http://www.w3.org/1999/02/22-rdf-syntax-ns#\">\n   <cc:Work>\n    <dc:type rdf:resource=\"http://purl.org/dc/dcmitype/StillImage\"/>\n    <dc:date>2021-08-15T13:53:53.920974</dc:date>\n    <dc:format>image/svg+xml</dc:format>\n    <dc:creator>\n     <cc:Agent>\n      <dc:title>Matplotlib v3.4.2, https://matplotlib.org/</dc:title>\n     </cc:Agent>\n    </dc:creator>\n   </cc:Work>\n  </rdf:RDF>\n </metadata>\n <defs>\n  <style type=\"text/css\">*{stroke-linecap:butt;stroke-linejoin:round;}</style>\n </defs>\n <g id=\"figure_1\">\n  <g id=\"patch_1\">\n   <path d=\"M -0 331.674375 \nL 623.723438 331.674375 \nL 623.723438 0 \nL -0 0 \nz\n\" style=\"fill:none;\"/>\n  </g>\n  <g id=\"axes_1\">\n   <g id=\"patch_2\">\n    <path d=\"M 58.523438 294.118125 \nL 616.523438 294.118125 \nL 616.523438 22.318125 \nL 58.523438 22.318125 \nz\n\" style=\"fill:#ffffff;\"/>\n   </g>\n   <g id=\"matplotlib.axis_1\">\n    <g id=\"xtick_1\">\n     <g id=\"line2d_1\">\n      <defs>\n       <path d=\"M 0 0 \nL 0 3.5 \n\" id=\"m20a8564228\" style=\"stroke:#000000;stroke-width:0.8;\"/>\n      </defs>\n      <g>\n       <use style=\"stroke:#000000;stroke-width:0.8;\" x=\"134.614347\" xlink:href=\"#m20a8564228\" y=\"294.118125\"/>\n      </g>\n     </g>\n     <g id=\"text_1\">\n      <!-- −0.04 -->\n      <g transform=\"translate(119.29169 308.716563)scale(0.1 -0.1)\">\n       <defs>\n        <path d=\"M 678 2272 \nL 4684 2272 \nL 4684 1741 \nL 678 1741 \nL 678 2272 \nz\n\" id=\"DejaVuSans-2212\" transform=\"scale(0.015625)\"/>\n        <path d=\"M 2034 4250 \nQ 1547 4250 1301 3770 \nQ 1056 3291 1056 2328 \nQ 1056 1369 1301 889 \nQ 1547 409 2034 409 \nQ 2525 409 2770 889 \nQ 3016 1369 3016 2328 \nQ 3016 3291 2770 3770 \nQ 2525 4250 2034 4250 \nz\nM 2034 4750 \nQ 2819 4750 3233 4129 \nQ 3647 3509 3647 2328 \nQ 3647 1150 3233 529 \nQ 2819 -91 2034 -91 \nQ 1250 -91 836 529 \nQ 422 1150 422 2328 \nQ 422 3509 836 4129 \nQ 1250 4750 2034 4750 \nz\n\" id=\"DejaVuSans-30\" transform=\"scale(0.015625)\"/>\n        <path d=\"M 684 794 \nL 1344 794 \nL 1344 0 \nL 684 0 \nL 684 794 \nz\n\" id=\"DejaVuSans-2e\" transform=\"scale(0.015625)\"/>\n        <path d=\"M 2419 4116 \nL 825 1625 \nL 2419 1625 \nL 2419 4116 \nz\nM 2253 4666 \nL 3047 4666 \nL 3047 1625 \nL 3713 1625 \nL 3713 1100 \nL 3047 1100 \nL 3047 0 \nL 2419 0 \nL 2419 1100 \nL 313 1100 \nL 313 1709 \nL 2253 4666 \nz\n\" id=\"DejaVuSans-34\" transform=\"scale(0.015625)\"/>\n       </defs>\n       <use xlink:href=\"#DejaVuSans-2212\"/>\n       <use x=\"83.789062\" xlink:href=\"#DejaVuSans-30\"/>\n       <use x=\"147.412109\" xlink:href=\"#DejaVuSans-2e\"/>\n       <use x=\"179.199219\" xlink:href=\"#DejaVuSans-30\"/>\n       <use x=\"242.822266\" xlink:href=\"#DejaVuSans-34\"/>\n      </g>\n     </g>\n    </g>\n    <g id=\"xtick_2\">\n     <g id=\"line2d_2\">\n      <g>\n       <use style=\"stroke:#000000;stroke-width:0.8;\" x=\"236.068892\" xlink:href=\"#m20a8564228\" y=\"294.118125\"/>\n      </g>\n     </g>\n     <g id=\"text_2\">\n      <!-- −0.02 -->\n      <g transform=\"translate(220.746236 308.716563)scale(0.1 -0.1)\">\n       <defs>\n        <path d=\"M 1228 531 \nL 3431 531 \nL 3431 0 \nL 469 0 \nL 469 531 \nQ 828 903 1448 1529 \nQ 2069 2156 2228 2338 \nQ 2531 2678 2651 2914 \nQ 2772 3150 2772 3378 \nQ 2772 3750 2511 3984 \nQ 2250 4219 1831 4219 \nQ 1534 4219 1204 4116 \nQ 875 4013 500 3803 \nL 500 4441 \nQ 881 4594 1212 4672 \nQ 1544 4750 1819 4750 \nQ 2544 4750 2975 4387 \nQ 3406 4025 3406 3419 \nQ 3406 3131 3298 2873 \nQ 3191 2616 2906 2266 \nQ 2828 2175 2409 1742 \nQ 1991 1309 1228 531 \nz\n\" id=\"DejaVuSans-32\" transform=\"scale(0.015625)\"/>\n       </defs>\n       <use xlink:href=\"#DejaVuSans-2212\"/>\n       <use x=\"83.789062\" xlink:href=\"#DejaVuSans-30\"/>\n       <use x=\"147.412109\" xlink:href=\"#DejaVuSans-2e\"/>\n       <use x=\"179.199219\" xlink:href=\"#DejaVuSans-30\"/>\n       <use x=\"242.822266\" xlink:href=\"#DejaVuSans-32\"/>\n      </g>\n     </g>\n    </g>\n    <g id=\"xtick_3\">\n     <g id=\"line2d_3\">\n      <g>\n       <use style=\"stroke:#000000;stroke-width:0.8;\" x=\"337.523438\" xlink:href=\"#m20a8564228\" y=\"294.118125\"/>\n      </g>\n     </g>\n     <g id=\"text_3\">\n      <!-- 0.00 -->\n      <g transform=\"translate(326.390625 308.716563)scale(0.1 -0.1)\">\n       <use xlink:href=\"#DejaVuSans-30\"/>\n       <use x=\"63.623047\" xlink:href=\"#DejaVuSans-2e\"/>\n       <use x=\"95.410156\" xlink:href=\"#DejaVuSans-30\"/>\n       <use x=\"159.033203\" xlink:href=\"#DejaVuSans-30\"/>\n      </g>\n     </g>\n    </g>\n    <g id=\"xtick_4\">\n     <g id=\"line2d_4\">\n      <g>\n       <use style=\"stroke:#000000;stroke-width:0.8;\" x=\"438.977983\" xlink:href=\"#m20a8564228\" y=\"294.118125\"/>\n      </g>\n     </g>\n     <g id=\"text_4\">\n      <!-- 0.02 -->\n      <g transform=\"translate(427.84517 308.716563)scale(0.1 -0.1)\">\n       <use xlink:href=\"#DejaVuSans-30\"/>\n       <use x=\"63.623047\" xlink:href=\"#DejaVuSans-2e\"/>\n       <use x=\"95.410156\" xlink:href=\"#DejaVuSans-30\"/>\n       <use x=\"159.033203\" xlink:href=\"#DejaVuSans-32\"/>\n      </g>\n     </g>\n    </g>\n    <g id=\"xtick_5\">\n     <g id=\"line2d_5\">\n      <g>\n       <use style=\"stroke:#000000;stroke-width:0.8;\" x=\"540.432528\" xlink:href=\"#m20a8564228\" y=\"294.118125\"/>\n      </g>\n     </g>\n     <g id=\"text_5\">\n      <!-- 0.04 -->\n      <g transform=\"translate(529.299716 308.716563)scale(0.1 -0.1)\">\n       <use xlink:href=\"#DejaVuSans-30\"/>\n       <use x=\"63.623047\" xlink:href=\"#DejaVuSans-2e\"/>\n       <use x=\"95.410156\" xlink:href=\"#DejaVuSans-30\"/>\n       <use x=\"159.033203\" xlink:href=\"#DejaVuSans-34\"/>\n      </g>\n     </g>\n    </g>\n    <g id=\"text_6\">\n     <!-- iterations -->\n     <g transform=\"translate(313.796094 322.394687)scale(0.1 -0.1)\">\n      <defs>\n       <path d=\"M 603 3500 \nL 1178 3500 \nL 1178 0 \nL 603 0 \nL 603 3500 \nz\nM 603 4863 \nL 1178 4863 \nL 1178 4134 \nL 603 4134 \nL 603 4863 \nz\n\" id=\"DejaVuSans-69\" transform=\"scale(0.015625)\"/>\n       <path d=\"M 1172 4494 \nL 1172 3500 \nL 2356 3500 \nL 2356 3053 \nL 1172 3053 \nL 1172 1153 \nQ 1172 725 1289 603 \nQ 1406 481 1766 481 \nL 2356 481 \nL 2356 0 \nL 1766 0 \nQ 1100 0 847 248 \nQ 594 497 594 1153 \nL 594 3053 \nL 172 3053 \nL 172 3500 \nL 594 3500 \nL 594 4494 \nL 1172 4494 \nz\n\" id=\"DejaVuSans-74\" transform=\"scale(0.015625)\"/>\n       <path d=\"M 3597 1894 \nL 3597 1613 \nL 953 1613 \nQ 991 1019 1311 708 \nQ 1631 397 2203 397 \nQ 2534 397 2845 478 \nQ 3156 559 3463 722 \nL 3463 178 \nQ 3153 47 2828 -22 \nQ 2503 -91 2169 -91 \nQ 1331 -91 842 396 \nQ 353 884 353 1716 \nQ 353 2575 817 3079 \nQ 1281 3584 2069 3584 \nQ 2775 3584 3186 3129 \nQ 3597 2675 3597 1894 \nz\nM 3022 2063 \nQ 3016 2534 2758 2815 \nQ 2500 3097 2075 3097 \nQ 1594 3097 1305 2825 \nQ 1016 2553 972 2059 \nL 3022 2063 \nz\n\" id=\"DejaVuSans-65\" transform=\"scale(0.015625)\"/>\n       <path d=\"M 2631 2963 \nQ 2534 3019 2420 3045 \nQ 2306 3072 2169 3072 \nQ 1681 3072 1420 2755 \nQ 1159 2438 1159 1844 \nL 1159 0 \nL 581 0 \nL 581 3500 \nL 1159 3500 \nL 1159 2956 \nQ 1341 3275 1631 3429 \nQ 1922 3584 2338 3584 \nQ 2397 3584 2469 3576 \nQ 2541 3569 2628 3553 \nL 2631 2963 \nz\n\" id=\"DejaVuSans-72\" transform=\"scale(0.015625)\"/>\n       <path d=\"M 2194 1759 \nQ 1497 1759 1228 1600 \nQ 959 1441 959 1056 \nQ 959 750 1161 570 \nQ 1363 391 1709 391 \nQ 2188 391 2477 730 \nQ 2766 1069 2766 1631 \nL 2766 1759 \nL 2194 1759 \nz\nM 3341 1997 \nL 3341 0 \nL 2766 0 \nL 2766 531 \nQ 2569 213 2275 61 \nQ 1981 -91 1556 -91 \nQ 1019 -91 701 211 \nQ 384 513 384 1019 \nQ 384 1609 779 1909 \nQ 1175 2209 1959 2209 \nL 2766 2209 \nL 2766 2266 \nQ 2766 2663 2505 2880 \nQ 2244 3097 1772 3097 \nQ 1472 3097 1187 3025 \nQ 903 2953 641 2809 \nL 641 3341 \nQ 956 3463 1253 3523 \nQ 1550 3584 1831 3584 \nQ 2591 3584 2966 3190 \nQ 3341 2797 3341 1997 \nz\n\" id=\"DejaVuSans-61\" transform=\"scale(0.015625)\"/>\n       <path d=\"M 1959 3097 \nQ 1497 3097 1228 2736 \nQ 959 2375 959 1747 \nQ 959 1119 1226 758 \nQ 1494 397 1959 397 \nQ 2419 397 2687 759 \nQ 2956 1122 2956 1747 \nQ 2956 2369 2687 2733 \nQ 2419 3097 1959 3097 \nz\nM 1959 3584 \nQ 2709 3584 3137 3096 \nQ 3566 2609 3566 1747 \nQ 3566 888 3137 398 \nQ 2709 -91 1959 -91 \nQ 1206 -91 779 398 \nQ 353 888 353 1747 \nQ 353 2609 779 3096 \nQ 1206 3584 1959 3584 \nz\n\" id=\"DejaVuSans-6f\" transform=\"scale(0.015625)\"/>\n       <path d=\"M 3513 2113 \nL 3513 0 \nL 2938 0 \nL 2938 2094 \nQ 2938 2591 2744 2837 \nQ 2550 3084 2163 3084 \nQ 1697 3084 1428 2787 \nQ 1159 2491 1159 1978 \nL 1159 0 \nL 581 0 \nL 581 3500 \nL 1159 3500 \nL 1159 2956 \nQ 1366 3272 1645 3428 \nQ 1925 3584 2291 3584 \nQ 2894 3584 3203 3211 \nQ 3513 2838 3513 2113 \nz\n\" id=\"DejaVuSans-6e\" transform=\"scale(0.015625)\"/>\n       <path d=\"M 2834 3397 \nL 2834 2853 \nQ 2591 2978 2328 3040 \nQ 2066 3103 1784 3103 \nQ 1356 3103 1142 2972 \nQ 928 2841 928 2578 \nQ 928 2378 1081 2264 \nQ 1234 2150 1697 2047 \nL 1894 2003 \nQ 2506 1872 2764 1633 \nQ 3022 1394 3022 966 \nQ 3022 478 2636 193 \nQ 2250 -91 1575 -91 \nQ 1294 -91 989 -36 \nQ 684 19 347 128 \nL 347 722 \nQ 666 556 975 473 \nQ 1284 391 1588 391 \nQ 1994 391 2212 530 \nQ 2431 669 2431 922 \nQ 2431 1156 2273 1281 \nQ 2116 1406 1581 1522 \nL 1381 1569 \nQ 847 1681 609 1914 \nQ 372 2147 372 2553 \nQ 372 3047 722 3315 \nQ 1072 3584 1716 3584 \nQ 2034 3584 2315 3537 \nQ 2597 3491 2834 3397 \nz\n\" id=\"DejaVuSans-73\" transform=\"scale(0.015625)\"/>\n      </defs>\n      <use xlink:href=\"#DejaVuSans-69\"/>\n      <use x=\"27.783203\" xlink:href=\"#DejaVuSans-74\"/>\n      <use x=\"66.992188\" xlink:href=\"#DejaVuSans-65\"/>\n      <use x=\"128.515625\" xlink:href=\"#DejaVuSans-72\"/>\n      <use x=\"169.628906\" xlink:href=\"#DejaVuSans-61\"/>\n      <use x=\"230.908203\" xlink:href=\"#DejaVuSans-74\"/>\n      <use x=\"270.117188\" xlink:href=\"#DejaVuSans-69\"/>\n      <use x=\"297.900391\" xlink:href=\"#DejaVuSans-6f\"/>\n      <use x=\"359.082031\" xlink:href=\"#DejaVuSans-6e\"/>\n      <use x=\"422.460938\" xlink:href=\"#DejaVuSans-73\"/>\n     </g>\n    </g>\n   </g>\n   <g id=\"matplotlib.axis_2\">\n    <g id=\"ytick_1\">\n     <g id=\"line2d_6\">\n      <defs>\n       <path d=\"M 0 0 \nL -3.5 0 \n\" id=\"m25ce3ad559\" style=\"stroke:#000000;stroke-width:0.8;\"/>\n      </defs>\n      <g>\n       <use style=\"stroke:#000000;stroke-width:0.8;\" x=\"58.523438\" xlink:href=\"#m25ce3ad559\" y=\"257.054489\"/>\n      </g>\n     </g>\n     <g id=\"text_7\">\n      <!-- −0.04 -->\n      <g transform=\"translate(20.878125 260.853707)scale(0.1 -0.1)\">\n       <use xlink:href=\"#DejaVuSans-2212\"/>\n       <use x=\"83.789062\" xlink:href=\"#DejaVuSans-30\"/>\n       <use x=\"147.412109\" xlink:href=\"#DejaVuSans-2e\"/>\n       <use x=\"179.199219\" xlink:href=\"#DejaVuSans-30\"/>\n       <use x=\"242.822266\" xlink:href=\"#DejaVuSans-34\"/>\n      </g>\n     </g>\n    </g>\n    <g id=\"ytick_2\">\n     <g id=\"line2d_7\">\n      <g>\n       <use style=\"stroke:#000000;stroke-width:0.8;\" x=\"58.523438\" xlink:href=\"#m25ce3ad559\" y=\"207.636307\"/>\n      </g>\n     </g>\n     <g id=\"text_8\">\n      <!-- −0.02 -->\n      <g transform=\"translate(20.878125 211.435526)scale(0.1 -0.1)\">\n       <use xlink:href=\"#DejaVuSans-2212\"/>\n       <use x=\"83.789062\" xlink:href=\"#DejaVuSans-30\"/>\n       <use x=\"147.412109\" xlink:href=\"#DejaVuSans-2e\"/>\n       <use x=\"179.199219\" xlink:href=\"#DejaVuSans-30\"/>\n       <use x=\"242.822266\" xlink:href=\"#DejaVuSans-32\"/>\n      </g>\n     </g>\n    </g>\n    <g id=\"ytick_3\">\n     <g id=\"line2d_8\">\n      <g>\n       <use style=\"stroke:#000000;stroke-width:0.8;\" x=\"58.523438\" xlink:href=\"#m25ce3ad559\" y=\"158.218125\"/>\n      </g>\n     </g>\n     <g id=\"text_9\">\n      <!-- 0.00 -->\n      <g transform=\"translate(29.257812 162.017344)scale(0.1 -0.1)\">\n       <use xlink:href=\"#DejaVuSans-30\"/>\n       <use x=\"63.623047\" xlink:href=\"#DejaVuSans-2e\"/>\n       <use x=\"95.410156\" xlink:href=\"#DejaVuSans-30\"/>\n       <use x=\"159.033203\" xlink:href=\"#DejaVuSans-30\"/>\n      </g>\n     </g>\n    </g>\n    <g id=\"ytick_4\">\n     <g id=\"line2d_9\">\n      <g>\n       <use style=\"stroke:#000000;stroke-width:0.8;\" x=\"58.523438\" xlink:href=\"#m25ce3ad559\" y=\"108.799943\"/>\n      </g>\n     </g>\n     <g id=\"text_10\">\n      <!-- 0.02 -->\n      <g transform=\"translate(29.257812 112.599162)scale(0.1 -0.1)\">\n       <use xlink:href=\"#DejaVuSans-30\"/>\n       <use x=\"63.623047\" xlink:href=\"#DejaVuSans-2e\"/>\n       <use x=\"95.410156\" xlink:href=\"#DejaVuSans-30\"/>\n       <use x=\"159.033203\" xlink:href=\"#DejaVuSans-32\"/>\n      </g>\n     </g>\n    </g>\n    <g id=\"ytick_5\">\n     <g id=\"line2d_10\">\n      <g>\n       <use style=\"stroke:#000000;stroke-width:0.8;\" x=\"58.523438\" xlink:href=\"#m25ce3ad559\" y=\"59.381761\"/>\n      </g>\n     </g>\n     <g id=\"text_11\">\n      <!-- 0.04 -->\n      <g transform=\"translate(29.257812 63.18098)scale(0.1 -0.1)\">\n       <use xlink:href=\"#DejaVuSans-30\"/>\n       <use x=\"63.623047\" xlink:href=\"#DejaVuSans-2e\"/>\n       <use x=\"95.410156\" xlink:href=\"#DejaVuSans-30\"/>\n       <use x=\"159.033203\" xlink:href=\"#DejaVuSans-34\"/>\n      </g>\n     </g>\n    </g>\n    <g id=\"text_12\">\n     <!-- Loss -->\n     <g transform=\"translate(14.798437 169.185313)rotate(-90)scale(0.1 -0.1)\">\n      <defs>\n       <path d=\"M 628 4666 \nL 1259 4666 \nL 1259 531 \nL 3531 531 \nL 3531 0 \nL 628 0 \nL 628 4666 \nz\n\" id=\"DejaVuSans-4c\" transform=\"scale(0.015625)\"/>\n      </defs>\n      <use xlink:href=\"#DejaVuSans-4c\"/>\n      <use x=\"53.962891\" xlink:href=\"#DejaVuSans-6f\"/>\n      <use x=\"115.144531\" xlink:href=\"#DejaVuSans-73\"/>\n      <use x=\"167.244141\" xlink:href=\"#DejaVuSans-73\"/>\n     </g>\n    </g>\n   </g>\n   <g id=\"line2d_11\"/>\n   <g id=\"line2d_12\"/>\n   <g id=\"patch_3\">\n    <path d=\"M 58.523438 294.118125 \nL 58.523438 22.318125 \n\" style=\"fill:none;stroke:#000000;stroke-linecap:square;stroke-linejoin:miter;stroke-width:0.8;\"/>\n   </g>\n   <g id=\"patch_4\">\n    <path d=\"M 616.523438 294.118125 \nL 616.523438 22.318125 \n\" style=\"fill:none;stroke:#000000;stroke-linecap:square;stroke-linejoin:miter;stroke-width:0.8;\"/>\n   </g>\n   <g id=\"patch_5\">\n    <path d=\"M 58.523438 294.118125 \nL 616.523438 294.118125 \n\" style=\"fill:none;stroke:#000000;stroke-linecap:square;stroke-linejoin:miter;stroke-width:0.8;\"/>\n   </g>\n   <g id=\"patch_6\">\n    <path d=\"M 58.523438 22.318125 \nL 616.523438 22.318125 \n\" style=\"fill:none;stroke:#000000;stroke-linecap:square;stroke-linejoin:miter;stroke-width:0.8;\"/>\n   </g>\n   <g id=\"text_13\">\n    <!-- Generator and Discriminator Loss During Training -->\n    <g transform=\"translate(188.907187 16.318125)scale(0.12 -0.12)\">\n     <defs>\n      <path d=\"M 3809 666 \nL 3809 1919 \nL 2778 1919 \nL 2778 2438 \nL 4434 2438 \nL 4434 434 \nQ 4069 175 3628 42 \nQ 3188 -91 2688 -91 \nQ 1594 -91 976 548 \nQ 359 1188 359 2328 \nQ 359 3472 976 4111 \nQ 1594 4750 2688 4750 \nQ 3144 4750 3555 4637 \nQ 3966 4525 4313 4306 \nL 4313 3634 \nQ 3963 3931 3569 4081 \nQ 3175 4231 2741 4231 \nQ 1884 4231 1454 3753 \nQ 1025 3275 1025 2328 \nQ 1025 1384 1454 906 \nQ 1884 428 2741 428 \nQ 3075 428 3337 486 \nQ 3600 544 3809 666 \nz\n\" id=\"DejaVuSans-47\" transform=\"scale(0.015625)\"/>\n      <path id=\"DejaVuSans-20\" transform=\"scale(0.015625)\"/>\n      <path d=\"M 2906 2969 \nL 2906 4863 \nL 3481 4863 \nL 3481 0 \nL 2906 0 \nL 2906 525 \nQ 2725 213 2448 61 \nQ 2172 -91 1784 -91 \nQ 1150 -91 751 415 \nQ 353 922 353 1747 \nQ 353 2572 751 3078 \nQ 1150 3584 1784 3584 \nQ 2172 3584 2448 3432 \nQ 2725 3281 2906 2969 \nz\nM 947 1747 \nQ 947 1113 1208 752 \nQ 1469 391 1925 391 \nQ 2381 391 2643 752 \nQ 2906 1113 2906 1747 \nQ 2906 2381 2643 2742 \nQ 2381 3103 1925 3103 \nQ 1469 3103 1208 2742 \nQ 947 2381 947 1747 \nz\n\" id=\"DejaVuSans-64\" transform=\"scale(0.015625)\"/>\n      <path d=\"M 1259 4147 \nL 1259 519 \nL 2022 519 \nQ 2988 519 3436 956 \nQ 3884 1394 3884 2338 \nQ 3884 3275 3436 3711 \nQ 2988 4147 2022 4147 \nL 1259 4147 \nz\nM 628 4666 \nL 1925 4666 \nQ 3281 4666 3915 4102 \nQ 4550 3538 4550 2338 \nQ 4550 1131 3912 565 \nQ 3275 0 1925 0 \nL 628 0 \nL 628 4666 \nz\n\" id=\"DejaVuSans-44\" transform=\"scale(0.015625)\"/>\n      <path d=\"M 3122 3366 \nL 3122 2828 \nQ 2878 2963 2633 3030 \nQ 2388 3097 2138 3097 \nQ 1578 3097 1268 2742 \nQ 959 2388 959 1747 \nQ 959 1106 1268 751 \nQ 1578 397 2138 397 \nQ 2388 397 2633 464 \nQ 2878 531 3122 666 \nL 3122 134 \nQ 2881 22 2623 -34 \nQ 2366 -91 2075 -91 \nQ 1284 -91 818 406 \nQ 353 903 353 1747 \nQ 353 2603 823 3093 \nQ 1294 3584 2113 3584 \nQ 2378 3584 2631 3529 \nQ 2884 3475 3122 3366 \nz\n\" id=\"DejaVuSans-63\" transform=\"scale(0.015625)\"/>\n      <path d=\"M 3328 2828 \nQ 3544 3216 3844 3400 \nQ 4144 3584 4550 3584 \nQ 5097 3584 5394 3201 \nQ 5691 2819 5691 2113 \nL 5691 0 \nL 5113 0 \nL 5113 2094 \nQ 5113 2597 4934 2840 \nQ 4756 3084 4391 3084 \nQ 3944 3084 3684 2787 \nQ 3425 2491 3425 1978 \nL 3425 0 \nL 2847 0 \nL 2847 2094 \nQ 2847 2600 2669 2842 \nQ 2491 3084 2119 3084 \nQ 1678 3084 1418 2786 \nQ 1159 2488 1159 1978 \nL 1159 0 \nL 581 0 \nL 581 3500 \nL 1159 3500 \nL 1159 2956 \nQ 1356 3278 1631 3431 \nQ 1906 3584 2284 3584 \nQ 2666 3584 2933 3390 \nQ 3200 3197 3328 2828 \nz\n\" id=\"DejaVuSans-6d\" transform=\"scale(0.015625)\"/>\n      <path d=\"M 544 1381 \nL 544 3500 \nL 1119 3500 \nL 1119 1403 \nQ 1119 906 1312 657 \nQ 1506 409 1894 409 \nQ 2359 409 2629 706 \nQ 2900 1003 2900 1516 \nL 2900 3500 \nL 3475 3500 \nL 3475 0 \nL 2900 0 \nL 2900 538 \nQ 2691 219 2414 64 \nQ 2138 -91 1772 -91 \nQ 1169 -91 856 284 \nQ 544 659 544 1381 \nz\nM 1991 3584 \nL 1991 3584 \nz\n\" id=\"DejaVuSans-75\" transform=\"scale(0.015625)\"/>\n      <path d=\"M 2906 1791 \nQ 2906 2416 2648 2759 \nQ 2391 3103 1925 3103 \nQ 1463 3103 1205 2759 \nQ 947 2416 947 1791 \nQ 947 1169 1205 825 \nQ 1463 481 1925 481 \nQ 2391 481 2648 825 \nQ 2906 1169 2906 1791 \nz\nM 3481 434 \nQ 3481 -459 3084 -895 \nQ 2688 -1331 1869 -1331 \nQ 1566 -1331 1297 -1286 \nQ 1028 -1241 775 -1147 \nL 775 -588 \nQ 1028 -725 1275 -790 \nQ 1522 -856 1778 -856 \nQ 2344 -856 2625 -561 \nQ 2906 -266 2906 331 \nL 2906 616 \nQ 2728 306 2450 153 \nQ 2172 0 1784 0 \nQ 1141 0 747 490 \nQ 353 981 353 1791 \nQ 353 2603 747 3093 \nQ 1141 3584 1784 3584 \nQ 2172 3584 2450 3431 \nQ 2728 3278 2906 2969 \nL 2906 3500 \nL 3481 3500 \nL 3481 434 \nz\n\" id=\"DejaVuSans-67\" transform=\"scale(0.015625)\"/>\n      <path d=\"M -19 4666 \nL 3928 4666 \nL 3928 4134 \nL 2272 4134 \nL 2272 0 \nL 1638 0 \nL 1638 4134 \nL -19 4134 \nL -19 4666 \nz\n\" id=\"DejaVuSans-54\" transform=\"scale(0.015625)\"/>\n     </defs>\n     <use xlink:href=\"#DejaVuSans-47\"/>\n     <use x=\"77.490234\" xlink:href=\"#DejaVuSans-65\"/>\n     <use x=\"139.013672\" xlink:href=\"#DejaVuSans-6e\"/>\n     <use x=\"202.392578\" xlink:href=\"#DejaVuSans-65\"/>\n     <use x=\"263.916016\" xlink:href=\"#DejaVuSans-72\"/>\n     <use x=\"305.029297\" xlink:href=\"#DejaVuSans-61\"/>\n     <use x=\"366.308594\" xlink:href=\"#DejaVuSans-74\"/>\n     <use x=\"405.517578\" xlink:href=\"#DejaVuSans-6f\"/>\n     <use x=\"466.699219\" xlink:href=\"#DejaVuSans-72\"/>\n     <use x=\"507.8125\" xlink:href=\"#DejaVuSans-20\"/>\n     <use x=\"539.599609\" xlink:href=\"#DejaVuSans-61\"/>\n     <use x=\"600.878906\" xlink:href=\"#DejaVuSans-6e\"/>\n     <use x=\"664.257812\" xlink:href=\"#DejaVuSans-64\"/>\n     <use x=\"727.734375\" xlink:href=\"#DejaVuSans-20\"/>\n     <use x=\"759.521484\" xlink:href=\"#DejaVuSans-44\"/>\n     <use x=\"836.523438\" xlink:href=\"#DejaVuSans-69\"/>\n     <use x=\"864.306641\" xlink:href=\"#DejaVuSans-73\"/>\n     <use x=\"916.40625\" xlink:href=\"#DejaVuSans-63\"/>\n     <use x=\"971.386719\" xlink:href=\"#DejaVuSans-72\"/>\n     <use x=\"1012.5\" xlink:href=\"#DejaVuSans-69\"/>\n     <use x=\"1040.283203\" xlink:href=\"#DejaVuSans-6d\"/>\n     <use x=\"1137.695312\" xlink:href=\"#DejaVuSans-69\"/>\n     <use x=\"1165.478516\" xlink:href=\"#DejaVuSans-6e\"/>\n     <use x=\"1228.857422\" xlink:href=\"#DejaVuSans-61\"/>\n     <use x=\"1290.136719\" xlink:href=\"#DejaVuSans-74\"/>\n     <use x=\"1329.345703\" xlink:href=\"#DejaVuSans-6f\"/>\n     <use x=\"1390.527344\" xlink:href=\"#DejaVuSans-72\"/>\n     <use x=\"1431.640625\" xlink:href=\"#DejaVuSans-20\"/>\n     <use x=\"1463.427734\" xlink:href=\"#DejaVuSans-4c\"/>\n     <use x=\"1517.390625\" xlink:href=\"#DejaVuSans-6f\"/>\n     <use x=\"1578.572266\" xlink:href=\"#DejaVuSans-73\"/>\n     <use x=\"1630.671875\" xlink:href=\"#DejaVuSans-73\"/>\n     <use x=\"1682.771484\" xlink:href=\"#DejaVuSans-20\"/>\n     <use x=\"1714.558594\" xlink:href=\"#DejaVuSans-44\"/>\n     <use x=\"1791.560547\" xlink:href=\"#DejaVuSans-75\"/>\n     <use x=\"1854.939453\" xlink:href=\"#DejaVuSans-72\"/>\n     <use x=\"1896.052734\" xlink:href=\"#DejaVuSans-69\"/>\n     <use x=\"1923.835938\" xlink:href=\"#DejaVuSans-6e\"/>\n     <use x=\"1987.214844\" xlink:href=\"#DejaVuSans-67\"/>\n     <use x=\"2050.691406\" xlink:href=\"#DejaVuSans-20\"/>\n     <use x=\"2082.478516\" xlink:href=\"#DejaVuSans-54\"/>\n     <use x=\"2128.8125\" xlink:href=\"#DejaVuSans-72\"/>\n     <use x=\"2169.925781\" xlink:href=\"#DejaVuSans-61\"/>\n     <use x=\"2231.205078\" xlink:href=\"#DejaVuSans-69\"/>\n     <use x=\"2258.988281\" xlink:href=\"#DejaVuSans-6e\"/>\n     <use x=\"2322.367188\" xlink:href=\"#DejaVuSans-69\"/>\n     <use x=\"2350.150391\" xlink:href=\"#DejaVuSans-6e\"/>\n     <use x=\"2413.529297\" xlink:href=\"#DejaVuSans-67\"/>\n    </g>\n   </g>\n   <g id=\"legend_1\">\n    <g id=\"patch_7\">\n     <path d=\"M 569.775 59.674375 \nL 609.523438 59.674375 \nQ 611.523438 59.674375 611.523438 57.674375 \nL 611.523438 29.318125 \nQ 611.523438 27.318125 609.523438 27.318125 \nL 569.775 27.318125 \nQ 567.775 27.318125 567.775 29.318125 \nL 567.775 57.674375 \nQ 567.775 59.674375 569.775 59.674375 \nz\n\" style=\"fill:#ffffff;opacity:0.8;stroke:#cccccc;stroke-linejoin:miter;\"/>\n    </g>\n    <g id=\"line2d_13\">\n     <path d=\"M 571.775 35.416562 \nL 591.775 35.416562 \n\" style=\"fill:none;stroke:#1f77b4;stroke-linecap:square;stroke-width:1.5;\"/>\n    </g>\n    <g id=\"line2d_14\"/>\n    <g id=\"text_14\">\n     <!-- G -->\n     <g transform=\"translate(599.775 38.916562)scale(0.1 -0.1)\">\n      <use xlink:href=\"#DejaVuSans-47\"/>\n     </g>\n    </g>\n    <g id=\"line2d_15\">\n     <path d=\"M 571.775 50.094688 \nL 591.775 50.094688 \n\" style=\"fill:none;stroke:#ff7f0e;stroke-linecap:square;stroke-width:1.5;\"/>\n    </g>\n    <g id=\"line2d_16\"/>\n    <g id=\"text_15\">\n     <!-- D -->\n     <g transform=\"translate(599.775 53.594688)scale(0.1 -0.1)\">\n      <use xlink:href=\"#DejaVuSans-44\"/>\n     </g>\n    </g>\n   </g>\n  </g>\n </g>\n</svg>\n",
                        "image/png": "[encoded data removed]"
                    },
                    "metadata": {
                        "needs_background": "light"
                    }
                }
            ],
            "metadata": {}
        },
        {
            "cell_type": "code",
            "execution_count": null,
            "source": [
                "#%%capture\n",
                "fig = plt.figure(figsize=(8,8))\n",
                "plt.axis(\"off\")\n",
                "ims = [[plt.imshow(np.transpose(i,(1,2,0)), animated=True)] for i in img_list]\n",
                "ani = animation.ArtistAnimation(fig, ims, interval=1000, repeat_delay=1000, blit=True)\n",
                "\n",
                "HTML(ani.to_jshtml())"
            ],
            "outputs": [],
            "metadata": {}
        },
        {
            "cell_type": "code",
            "execution_count": null,
            "source": [
                "# Grab a batch of real images from the dataloader\n",
                "real_batch = next(iter(dataloader))\n",
                "\n",
                "# Plot the real images\n",
                "plt.figure(figsize=(15,15))\n",
                "plt.subplot(1,2,1)\n",
                "plt.axis(\"off\")\n",
                "plt.title(\"Real Images\")\n",
                "plt.imshow(np.transpose(vutils.make_grid(real_batch[0].to(device)[:64], padding=5, normalize=True).cpu(),(1,2,0)))\n",
                "\n",
                "# Plot the fake images from the last epoch\n",
                "plt.subplot(1,2,2)\n",
                "plt.axis(\"off\")\n",
                "plt.title(\"Fake Images\")\n",
                "plt.imshow(np.transpose(img_list[-1],(1,2,0)))\n",
                "plt.show()"
            ],
            "outputs": [],
            "metadata": {}
        }
    ],
    "metadata": {
        "orig_nbformat": 4,
        "language_info": {
            "name": "python",
            "version": "3.8.10",
            "mimetype": "text/x-python",
            "codemirror_mode": {
                "name": "ipython",
                "version": 3
            },
            "pygments_lexer": "ipython3",
            "nbconvert_exporter": "python",
            "file_extension": ".py"
        },
        "kernelspec": {
            "name": "python3",
            "display_name": "Python 3.8.10 64-bit ('base': conda)"
        },
        "interpreter": {
            "hash": "98b0a9b7b4eaaa670588a142fd0a9b87eaafe866f1db4228be72b4211d12040f"
        }
    },
    "nbformat": 4,
    "nbformat_minor": 2
}