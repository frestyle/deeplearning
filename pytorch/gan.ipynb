{
    "cells": [
        {
            "cell_type": "code",
            "execution_count": 1,
            "source": [
                "import torch\n",
                "import torch.nn as nn\n",
                "import torch.optim as optim\n",
                "import torchvision\n",
                "import torchvision.datasets as datasets\n",
                "from torch.utils.data import DataLoader\n",
                "import torchvision.transforms as transforms\n",
                "from torch.utils.tensorboard import SummaryWriter  # to print to tensorboard"
            ],
            "outputs": [],
            "metadata": {}
        },
        {
            "cell_type": "markdown",
            "source": [
                "# Discriminator"
            ],
            "metadata": {}
        },
        {
            "cell_type": "code",
            "execution_count": 2,
            "source": [
                "class Discriminator(nn.Module):\n",
                "    def __init__(self, in_features):\n",
                "        super().__init__()\n",
                "        self.disc = nn.Sequential(\n",
                "            nn.Linear(in_features, 128),\n",
                "            nn.LeakyReLU(0.01),\n",
                "            nn.Linear(128, 1),\n",
                "            nn.Sigmoid(),\n",
                "        )\n",
                "\n",
                "    def forward(self, x):\n",
                "        return self.disc(x)"
            ],
            "outputs": [],
            "metadata": {}
        },
        {
            "cell_type": "markdown",
            "source": [
                "# Generator"
            ],
            "metadata": {}
        },
        {
            "cell_type": "code",
            "execution_count": 3,
            "source": [
                "class Generator(nn.Module):\n",
                "    def __init__(self, z_dim, img_dim):\n",
                "        super().__init__()\n",
                "        self.gen = nn.Sequential(\n",
                "            nn.Linear(z_dim, 256),\n",
                "            nn.LeakyReLU(0.01),\n",
                "            nn.Linear(256, img_dim),\n",
                "            nn.Tanh(),  # normalize inputs to [-1, 1] so make outputs [-1, 1]\n",
                "        )\n",
                "\n",
                "    def forward(self, x):\n",
                "        return self.gen(x)"
            ],
            "outputs": [],
            "metadata": {}
        },
        {
            "cell_type": "markdown",
            "source": [
                "# Hyperparameters etc.\n"
            ],
            "metadata": {}
        },
        {
            "cell_type": "code",
            "execution_count": 4,
            "source": [
                "device = \"cuda\" if torch.cuda.is_available() else \"cpu\"\n",
                "lr = 3e-4\n",
                "z_dim = 64\n",
                "image_dim = 28 * 28 * 1  # 784\n",
                "batch_size = 32\n",
                "num_epochs = 50"
            ],
            "outputs": [],
            "metadata": {}
        },
        {
            "cell_type": "markdown",
            "source": [
                "# model"
            ],
            "metadata": {}
        },
        {
            "cell_type": "code",
            "execution_count": 5,
            "source": [
                "\n",
                "disc = Discriminator(image_dim).to(device)\n",
                "gen = Generator(z_dim, image_dim).to(device)\n",
                "fixed_noise = torch.randn((batch_size, z_dim)).to(device)\n",
                "\n"
            ],
            "outputs": [],
            "metadata": {}
        },
        {
            "cell_type": "code",
            "execution_count": 6,
            "source": [
                "\n",
                "transforms = transforms.Compose(\n",
                "    [transforms.ToTensor(), transforms.Normalize((0.5,), (0.5,)),]\n",
                ")"
            ],
            "outputs": [],
            "metadata": {}
        },
        {
            "cell_type": "code",
            "execution_count": 7,
            "source": [
                "dataset = datasets.MNIST(root=\"../dataset/\", transform=transforms, download=True)\n"
            ],
            "outputs": [
                {
                    "output_type": "stream",
                    "name": "stderr",
                    "text": [
                        "/opt/conda/lib/python3.8/site-packages/torchvision/datasets/mnist.py:498: UserWarning: The given NumPy array is not writeable, and PyTorch does not support non-writeable tensors. This means you can write to the underlying (supposedly non-writeable) NumPy array using the tensor. You may want to copy the array to protect its data or make it writeable before converting it to a tensor. This type of warning will be suppressed for the rest of this program. (Triggered internally at  /opt/pytorch/pytorch/torch/csrc/utils/tensor_numpy.cpp:175.)\n",
                        "  return torch.from_numpy(parsed.astype(m[2], copy=False)).view(*s)\n"
                    ]
                }
            ],
            "metadata": {}
        },
        {
            "cell_type": "code",
            "execution_count": 8,
            "source": [
                "loader = DataLoader(dataset, batch_size=batch_size, shuffle=True)\n",
                "opt_disc = optim.Adam(disc.parameters(), lr=lr)\n",
                "opt_gen = optim.Adam(gen.parameters(), lr=lr)\n",
                "criterion = nn.BCELoss()\n",
                "writer_fake = SummaryWriter(f\"logs/fake\")\n",
                "writer_real = SummaryWriter(f\"logs/real\")\n",
                "writer_debug = SummaryWriter(f\"logs/debug\")\n",
                "\n",
                "step = 0"
            ],
            "outputs": [],
            "metadata": {}
        },
        {
            "cell_type": "code",
            "execution_count": 9,
            "source": [
                "for epoch in range(num_epochs):\n",
                "    for batch_idx, (real, _) in enumerate(loader):\n",
                "        real = real.view(-1, 784).to(device)\n",
                "        batch_size = real.shape[0]\n",
                "\n",
                "        ### Train Discriminator: max log(D(x)) + log(1 - D(G(z)))\n",
                "        noise = torch.randn(batch_size, z_dim).to(device)\n",
                "        fake = gen(noise)\n",
                "        disc_real = disc(real).view(-1)\n",
                "        lossD_real = criterion(disc_real, torch.ones_like(disc_real))\n",
                "        disc_fake = disc(fake).view(-1)\n",
                "        lossD_fake = criterion(disc_fake, torch.zeros_like(disc_fake))\n",
                "        lossD = (lossD_real + lossD_fake) / 2\n",
                "        disc.zero_grad()\n",
                "        lossD.backward(retain_graph=True)\n",
                "        opt_disc.step()\n",
                "\n",
                "        "
            ],
            "outputs": [],
            "metadata": {}
        },
        {
            "cell_type": "code",
            "execution_count": 10,
            "source": [
                "for epoch in range(num_epochs):\n",
                "    ### Train Discriminator: max log(D(x)) + log(1 - D(G(z)))\n",
                "    noise = torch.randn(batch_size, z_dim).to(device)\n",
                "    fake = gen(noise)\n",
                "\n",
                "    ### Train Generator: min log(1 - D(G(z))) <-> max log(D(G(z))\n",
                "    # where the second option of maximizing doesn't suffer from\n",
                "    # saturating gradients\n",
                "    output = disc(fake).view(-1)\n",
                "    lossG = criterion(output, torch.ones_like(output))\n",
                "    gen.zero_grad()\n",
                "    lossG.backward()\n",
                "    opt_gen.step()"
            ],
            "outputs": [],
            "metadata": {}
        },
        {
            "cell_type": "markdown",
            "source": [
                "# Trainning Loop"
            ],
            "metadata": {}
        },
        {
            "cell_type": "code",
            "execution_count": 11,
            "source": [
                "\n",
                "for epoch in range(num_epochs):\n",
                "    for batch_idx, (real, _) in enumerate(loader):\n",
                "        real = real.view(-1, 784).to(device)\n",
                "        batch_size = real.shape[0]\n",
                "\n",
                "        ### Train Discriminator: max log(D(x)) + log(1 - D(G(z)))\n",
                "        noise = torch.randn(batch_size, z_dim).to(device)\n",
                "        fake = gen(noise)\n",
                "        disc_real = disc(real).view(-1)\n",
                "        lossD_real = criterion(disc_real, torch.ones_like(disc_real))\n",
                "        disc_fake = disc(fake).view(-1)\n",
                "        lossD_fake = criterion(disc_fake, torch.zeros_like(disc_fake))\n",
                "        lossD = (lossD_real + lossD_fake) / 2\n",
                "        disc.zero_grad()\n",
                "        lossD.backward(retain_graph=True)\n",
                "        opt_disc.step()\n",
                "\n",
                "        ### Train Generator: min log(1 - D(G(z))) <-> max log(D(G(z))\n",
                "        # where the second option of maximizing doesn't suffer from\n",
                "        # saturating gradients\n",
                "        output = disc(fake).view(-1)\n",
                "        lossG = criterion(output, torch.ones_like(output))\n",
                "        gen.zero_grad()\n",
                "        lossG.backward()\n",
                "        opt_gen.step()\n",
                "\n",
                "        if batch_idx == 0:\n",
                "            print(\n",
                "                f\"Epoch [{epoch}/{num_epochs}] Batch {batch_idx}/{len(loader)} \\\n",
                "                      Loss D: {lossD:.4f}, loss G: {lossG:.4f}\"\n",
                "            )\n",
                "\n",
                "            with torch.no_grad():\n",
                "                fake = gen(fixed_noise).reshape(-1, 1, 28, 28)\n",
                "                data = real.reshape(-1, 1, 28, 28)\n",
                "                img_grid_fake = torchvision.utils.make_grid(fake, normalize=True)\n",
                "                img_grid_real = torchvision.utils.make_grid(data, normalize=True)\n",
                "\n",
                "                writer_fake.add_image(\n",
                "                    \"Mnist Fake Images\", img_grid_fake, global_step=step\n",
                "                )\n",
                "                writer_real.add_image(\n",
                "                    \"Mnist Real Images\", img_grid_real, global_step=step\n",
                "                )\n",
                "                step += 1"
            ],
            "outputs": [
                {
                    "output_type": "stream",
                    "name": "stdout",
                    "text": [
                        "Epoch [0/50] Batch 0/1875                       Loss D: 1.8750, loss G: 0.0477\n",
                        "Epoch [1/50] Batch 0/1875                       Loss D: 0.2400, loss G: 1.7089\n",
                        "Epoch [2/50] Batch 0/1875                       Loss D: 0.9698, loss G: 0.7961\n",
                        "Epoch [3/50] Batch 0/1875                       Loss D: 0.8504, loss G: 0.8584\n",
                        "Epoch [4/50] Batch 0/1875                       Loss D: 0.3964, loss G: 1.5504\n",
                        "Epoch [5/50] Batch 0/1875                       Loss D: 1.1206, loss G: 0.6550\n",
                        "Epoch [6/50] Batch 0/1875                       Loss D: 0.2986, loss G: 1.4933\n",
                        "Epoch [7/50] Batch 0/1875                       Loss D: 0.9948, loss G: 0.7210\n",
                        "Epoch [8/50] Batch 0/1875                       Loss D: 0.6672, loss G: 0.8479\n",
                        "Epoch [9/50] Batch 0/1875                       Loss D: 0.6503, loss G: 1.0626\n",
                        "Epoch [10/50] Batch 0/1875                       Loss D: 0.4714, loss G: 1.4460\n",
                        "Epoch [11/50] Batch 0/1875                       Loss D: 0.4759, loss G: 1.4683\n",
                        "Epoch [12/50] Batch 0/1875                       Loss D: 0.3979, loss G: 1.8530\n",
                        "Epoch [13/50] Batch 0/1875                       Loss D: 0.5308, loss G: 1.4979\n",
                        "Epoch [14/50] Batch 0/1875                       Loss D: 0.3553, loss G: 1.6705\n",
                        "Epoch [15/50] Batch 0/1875                       Loss D: 0.4625, loss G: 1.9402\n",
                        "Epoch [16/50] Batch 0/1875                       Loss D: 0.5223, loss G: 1.2792\n",
                        "Epoch [17/50] Batch 0/1875                       Loss D: 0.6137, loss G: 1.3177\n",
                        "Epoch [18/50] Batch 0/1875                       Loss D: 0.6010, loss G: 1.5802\n",
                        "Epoch [19/50] Batch 0/1875                       Loss D: 0.5585, loss G: 1.2240\n",
                        "Epoch [20/50] Batch 0/1875                       Loss D: 0.4889, loss G: 1.8175\n",
                        "Epoch [21/50] Batch 0/1875                       Loss D: 0.3680, loss G: 2.0959\n",
                        "Epoch [22/50] Batch 0/1875                       Loss D: 0.4892, loss G: 1.7388\n",
                        "Epoch [23/50] Batch 0/1875                       Loss D: 0.7920, loss G: 0.8547\n",
                        "Epoch [24/50] Batch 0/1875                       Loss D: 0.4512, loss G: 1.8396\n",
                        "Epoch [25/50] Batch 0/1875                       Loss D: 0.5808, loss G: 1.9158\n",
                        "Epoch [26/50] Batch 0/1875                       Loss D: 0.7476, loss G: 1.3838\n",
                        "Epoch [27/50] Batch 0/1875                       Loss D: 0.8023, loss G: 1.1219\n",
                        "Epoch [28/50] Batch 0/1875                       Loss D: 0.6719, loss G: 1.3725\n",
                        "Epoch [29/50] Batch 0/1875                       Loss D: 0.5957, loss G: 1.5081\n",
                        "Epoch [30/50] Batch 0/1875                       Loss D: 0.3366, loss G: 2.1388\n",
                        "Epoch [31/50] Batch 0/1875                       Loss D: 0.4854, loss G: 1.5388\n",
                        "Epoch [32/50] Batch 0/1875                       Loss D: 0.4638, loss G: 1.7126\n",
                        "Epoch [33/50] Batch 0/1875                       Loss D: 0.5074, loss G: 1.2372\n",
                        "Epoch [34/50] Batch 0/1875                       Loss D: 0.4039, loss G: 1.7910\n",
                        "Epoch [35/50] Batch 0/1875                       Loss D: 0.4681, loss G: 1.3718\n",
                        "Epoch [36/50] Batch 0/1875                       Loss D: 0.6194, loss G: 1.4074\n",
                        "Epoch [37/50] Batch 0/1875                       Loss D: 0.6291, loss G: 1.2220\n",
                        "Epoch [38/50] Batch 0/1875                       Loss D: 0.4942, loss G: 1.8378\n",
                        "Epoch [39/50] Batch 0/1875                       Loss D: 0.5438, loss G: 1.1110\n",
                        "Epoch [40/50] Batch 0/1875                       Loss D: 0.5259, loss G: 1.4573\n",
                        "Epoch [41/50] Batch 0/1875                       Loss D: 0.5329, loss G: 1.4439\n",
                        "Epoch [42/50] Batch 0/1875                       Loss D: 0.4238, loss G: 1.5092\n",
                        "Epoch [43/50] Batch 0/1875                       Loss D: 0.5540, loss G: 1.5810\n",
                        "Epoch [44/50] Batch 0/1875                       Loss D: 0.5328, loss G: 1.4245\n",
                        "Epoch [45/50] Batch 0/1875                       Loss D: 0.5053, loss G: 1.3212\n",
                        "Epoch [46/50] Batch 0/1875                       Loss D: 0.7876, loss G: 0.8381\n",
                        "Epoch [47/50] Batch 0/1875                       Loss D: 0.6581, loss G: 1.2339\n",
                        "Epoch [48/50] Batch 0/1875                       Loss D: 0.6851, loss G: 0.9644\n",
                        "Epoch [49/50] Batch 0/1875                       Loss D: 0.6438, loss G: 1.1192\n"
                    ]
                }
            ],
            "metadata": {}
        }
    ],
    "metadata": {
        "orig_nbformat": 4,
        "language_info": {
            "name": "python",
            "version": "3.8.10",
            "mimetype": "text/x-python",
            "codemirror_mode": {
                "name": "ipython",
                "version": 3
            },
            "pygments_lexer": "ipython3",
            "nbconvert_exporter": "python",
            "file_extension": ".py"
        },
        "kernelspec": {
            "name": "python3",
            "display_name": "Python 3.8.10 64-bit ('base': conda)"
        },
        "interpreter": {
            "hash": "98b0a9b7b4eaaa670588a142fd0a9b87eaafe866f1db4228be72b4211d12040f"
        }
    },
    "nbformat": 4,
    "nbformat_minor": 2
}